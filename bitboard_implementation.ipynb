{
 "cells": [
  {
   "cell_type": "markdown",
   "id": "5db7a772-3c00-48ca-8f81-0a064525836e",
   "metadata": {},
   "source": [
    "ctrl + f for \"speedup\" to find improvement locations"
   ]
  },
  {
   "cell_type": "markdown",
   "id": "a0af620e",
   "metadata": {},
   "source": [
    "## Bitboard implementation\n",
    "## Bitboards\n",
    "The chess board is implemented as a collection if bitboards. Bitboards are 64 bit representations of a chess board. They are int64s where the positions of set bits (positions of 1s) give information about the game state. Bitboards are memory efficient and allow fast bitwise operations to manipulate the board. This is a piece centric board representation.\n",
    "\n",
    "Their memory efficiency allows for fast lookup tables. For example, a knight on a certain position on the board only has 8 or less moves. Instead of calculating each move, a lookup table is used to fetch all possible moves. A bitwise operation can be used to quickly evaluate the effects of each move.\n",
    "\n",
    "Sliding pieces are more difficult, they require magic bitboards. A special kind of lookup table. \n",
    "\n",
    "## Move generation\n",
    "For the move generation, a pseudo-legal move generator is used. This means that the generated moves could leave the king in check and this is only checked for afterwards.\n",
    "\n",
    "## Definitions\n",
    "Set bit: A bit is set if it has a value of 1. For example, in 0100, only the second bit is set.\n",
    "\n",
    "Least significant bit: The bit that contributes the least to the value of the integer, in practice, this is the last bit. For example, in 0100, the least significant bit is the 0 at the end.\n",
    "\n",
    "Attack board: A bitboard that shows all possible attacks for a specific piece in a specific location, without taking the color of the attacked position into account.  \n",
    "\n",
    "## Operations\n",
    "\\>>: right shift operator, it performs a bitwise right shift operation on a number by a specified number of positions. For example a = 1010, a >> 2 = 10\n",
    "\n",
    "## Notes\n",
    "Black starts at the low indexes (0-16) and white on the high indexes (48-64)"
   ]
  },
  {
   "cell_type": "markdown",
   "id": "26f07bf3",
   "metadata": {},
   "source": [
    "## General functions"
   ]
  },
  {
   "cell_type": "markdown",
   "id": "1740796e",
   "metadata": {},
   "source": [
    "### Visualize a bitboard"
   ]
  },
  {
   "cell_type": "code",
   "execution_count": 1,
   "id": "94f5dc2e",
   "metadata": {},
   "outputs": [],
   "source": [
    "def print_bitboard(bitboard):\n",
    "    \"\"\"\n",
    "    print a given bitboard, the occupied positions are represented by 'X', unoccupied positions are represented by '.'\n",
    "    bitboard: a bitboard that needs to be visualized\n",
    "    \"\"\"\n",
    "    # loop over the rows and columns of the board\n",
    "    for row in range(8):\n",
    "        row_str = \"\"\n",
    "        for col in range(8):\n",
    "            # check if the current square is occupied by a piece (check if the bit is set)\n",
    "            if (bitboard >> (8*row + col)) & 1:\n",
    "                # if the square is occupied, add an \"X\" to the string\n",
    "                row_str += \"X \"\n",
    "            else:\n",
    "                # if the square is empty, add a \".\" to the string\n",
    "                row_str += \". \"\n",
    "        # print the row string\n",
    "        print(row_str)"
   ]
  },
  {
   "cell_type": "code",
   "execution_count": 2,
   "id": "8eae2f88",
   "metadata": {},
   "outputs": [],
   "source": [
    "# the starting game state, the convention in this engine is that the first 6 bitboards represent white, represented by 0\n",
    "# white\n",
    "white_pawn = int('0000000011111111000000000000000000000000000000000000000000000000', 2)\n",
    "white_rook = int('1000000100000000000000000000000000000000000000000000000000000000', 2)\n",
    "white_knight = int('0100001000000000000000000000000000000000000000000000000000000000', 2)\n",
    "white_bishop = int('0010010000000000000000000000000000000000000000000000000000000000', 2)\n",
    "white_queen = int('0000100000000000000000000000000000000000000000000000000000000000', 2)\n",
    "white_king = int('0001000000000000000000000000000000000000000000000000000000000000', 2)\n",
    "\n",
    "# black\n",
    "black_pawn = int('0000000000000000000000000000000000000000000000001111111100000000', 2)\n",
    "black_rook = int('0000000000000000000000000000000000000000000000000000000010000001', 2)\n",
    "black_knight = int('0000000000000000000000000000000000000000000000000000000001000010', 2)\n",
    "black_bishop = int('0000000000000000000000000000000000000000000000000000000000100100', 2)\n",
    "black_queen = int('0000000000000000000000000000000000000000000000000000000000001000', 2)\n",
    "black_king = int('0000000000000000000000000000000000000000000000000000000000010000', 2)\n",
    "\n",
    "# en passant\n",
    "white_en_passant = 0\n",
    "black_en_passant = 0\n",
    "\n",
    "# castling_rights\n",
    "white_long_castle = True\n",
    "white_short_castle = True\n",
    "black_long_castle = True\n",
    "black_short_castle = True\n",
    "\n",
    "initial_game_state = [white_pawn, white_rook, white_knight, white_bishop, white_queen, white_king, black_pawn, black_rook, black_knight, black_bishop, black_queen, black_king, white_en_passant, black_en_passant, white_long_castle, white_short_castle, black_long_castle, black_short_castle]"
   ]
  },
  {
   "cell_type": "code",
   "execution_count": 3,
   "id": "44c60854",
   "metadata": {},
   "outputs": [
    {
     "name": "stdout",
     "output_type": "stream",
     "text": [
      ". . . . . . . . \n",
      ". . . . . . . . \n",
      ". . . . . . . . \n",
      ". . . . . . . . \n",
      ". . . . . . . . \n",
      ". . . . . . . . \n",
      ". . . . . . . . \n",
      ". X . . . . X . \n"
     ]
    }
   ],
   "source": [
    "# visualization of one of the 12 starting bitboards\n",
    "print_bitboard(white_knight)"
   ]
  },
  {
   "cell_type": "markdown",
   "id": "bf53b415",
   "metadata": {},
   "source": [
    "### Get a bitboard of all pieces of one color"
   ]
  },
  {
   "cell_type": "code",
   "execution_count": 4,
   "id": "c1df9066",
   "metadata": {},
   "outputs": [],
   "source": [
    "from functools import reduce\n",
    "from operator import or_\n",
    "\n",
    "def get_all_color(state):\n",
    "    \"\"\"\n",
    "    get a bitboard of all pieces of a color\n",
    "    state: current game state, a list of 12 bitboards\n",
    "    color: desired color\n",
    "    \"\"\"\n",
    "    \n",
    "    white_bb = reduce(or_, state[:6])\n",
    "    black_bb = reduce(or_, state[6:12])\n",
    "    return white_bb, black_bb"
   ]
  },
  {
   "cell_type": "code",
   "execution_count": 5,
   "id": "f8f7b36f",
   "metadata": {},
   "outputs": [
    {
     "name": "stdout",
     "output_type": "stream",
     "text": [
      ". . . . . . . . \n",
      ". . . . . . . . \n",
      ". . . . . . . . \n",
      ". . . . . . . . \n",
      ". . . . . . . . \n",
      ". . . . . . . . \n",
      "X X X X X X X X \n",
      "X X X X X X X X \n",
      "---------------\n",
      "X X X X X X X X \n",
      "X X X X X X X X \n",
      ". . . . . . . . \n",
      ". . . . . . . . \n",
      ". . . . . . . . \n",
      ". . . . . . . . \n",
      ". . . . . . . . \n",
      ". . . . . . . . \n"
     ]
    }
   ],
   "source": [
    "# visualization of the function\n",
    "print_bitboard(get_all_color(initial_game_state)[0])\n",
    "print('---------------')\n",
    "print_bitboard(get_all_color(initial_game_state)[1])"
   ]
  },
  {
   "cell_type": "markdown",
   "id": "9c0f6273",
   "metadata": {},
   "source": [
    "### Get a bitboard of all pieces"
   ]
  },
  {
   "cell_type": "code",
   "execution_count": 6,
   "id": "3670879e",
   "metadata": {},
   "outputs": [],
   "source": [
    "from functools import reduce\n",
    "from operator import or_\n",
    "\n",
    "def get_occupancy(state):\n",
    "    \"\"\"\n",
    "    get a bitboard of all pieces of both colors\n",
    "    state: current game state, a list of 12 bitboards\n",
    "    \"\"\"\n",
    "    \n",
    "    occupancy_bb = reduce(or_, state[:12])\n",
    "    return occupancy_bb"
   ]
  },
  {
   "cell_type": "code",
   "execution_count": 7,
   "id": "7eae6791",
   "metadata": {},
   "outputs": [
    {
     "name": "stdout",
     "output_type": "stream",
     "text": [
      "X X X X X X X X \n",
      "X X X X X X X X \n",
      ". . . . . . . . \n",
      ". . . . . . . . \n",
      ". . . . . . . . \n",
      ". . . . . . . . \n",
      "X X X X X X X X \n",
      "X X X X X X X X \n"
     ]
    }
   ],
   "source": [
    "# visualization of the function\n",
    "print_bitboard(get_occupancy(initial_game_state))"
   ]
  },
  {
   "cell_type": "markdown",
   "id": "b25f171f",
   "metadata": {},
   "source": [
    "## Knight\n",
    "\n",
    "This section contains functions required to make the lookup table for knight attacks. When the engine is started, this lookup table is generated. Generating all possible knight attacks doesn't take long, but querying a table takes even less time.\n",
    "\n",
    "To create the lookup table, a bitboard is generated for each position. This bitboard contains all possible destinations for the knight from the input position. \n",
    "\n",
    "- all 8 possible knight moves are added and checked to see if they stay within the bounds of the board\n",
    "    - rankwise errors: verify if the destination is 0-63 suffices \n",
    "    - columnwise errors: check if the starting position is on the A or B file and the destination ends up in the G or H file and we check if the starting position is on the G or H file and the destination ends up in the A or B file. \n",
    "        - with bitwise operations comparing the position and destination bitboards with bitboards for the A and B file (hexadecimal: 0x0303030303030303) and the G and H file (hexadecimal: 0xC0C0C0C0C0C0C0C0)."
   ]
  },
  {
   "cell_type": "code",
   "execution_count": 8,
   "id": "9868e4dc",
   "metadata": {},
   "outputs": [],
   "source": [
    "def get_knight_attack(position):\n",
    "    \"\"\"\n",
    "    returns a bitboard with all the possible knight moves starting from the given position\n",
    "    position: an integer (0-63) that gives the position of the knight.\n",
    "    \"\"\"\n",
    "    \n",
    "    # turn the position into a bitboard\n",
    "    position_bb = 0\n",
    "    position_bb |= 1 << position\n",
    "    \n",
    "    # positions for knight moves\n",
    "    # these indicate what the possible positions of a knight are relative to a given position (input)\n",
    "    knight_moves = [10, 17, 15, 6, -10, -17, -15, -6]\n",
    "    \n",
    "    # initialize bitboard\n",
    "    attack_bb = 0\n",
    "    # loop over the knight moves and add the corresponding squares to the bitboard\n",
    "    for move in knight_moves:\n",
    "        destination = position + move\n",
    "        # turn the move into a bitboard\n",
    "        # check for rankwise (rowwise) errors by checking if the destination is 0-63\n",
    "        if destination >= 0 and destination < 64:\n",
    "            # initialize temporary destination bitboard\n",
    "            destination_bb = 0\n",
    "            destination_bb |= 1 << destination\n",
    "            # check for filewise (columnwise) errors\n",
    "            # the first operation determines if the knight is on the A or B file (position_bb & 0x0303030303030303) or on the G or H file (position_bb & 0xC0C0C0C0C0C0C0C0)\n",
    "            # so this: (position_bb & 0x0303030303030303) != 0 is true if the knight is on the A or B file\n",
    "            # the second operation check if the destination is on the G or H file (dest_bb & 0xC0C0C0C0C0C0C0C0) or on the A or B file (dest_bb & 0x0303030303030303) to see if the knight crossed the board borders\n",
    "            if not ((position_bb & 0x0303030303030303) != 0 and (destination_bb & 0xC0C0C0C0C0C0C0C0) != 0) and \\\n",
    "               not ((position_bb & 0xC0C0C0C0C0C0C0C0) != 0 and (destination_bb & 0x0303030303030303) != 0):\n",
    "                # if the move is valid, set the corresponding bit in the bitboard\n",
    "                attack_bb |= 1 << destination\n",
    "    return attack_bb"
   ]
  },
  {
   "cell_type": "code",
   "execution_count": 9,
   "id": "e0747e67",
   "metadata": {},
   "outputs": [],
   "source": [
    "# create lookup table for knights\n",
    "knight_table = []\n",
    "for i in range(64):\n",
    "    knight_table.append(get_knight_attack(i))"
   ]
  },
  {
   "cell_type": "code",
   "execution_count": 10,
   "id": "3d341260",
   "metadata": {},
   "outputs": [
    {
     "name": "stdout",
     "output_type": "stream",
     "text": [
      ". . . . . . . . \n",
      ". . . . . . . . \n",
      ". . . . . . . . \n",
      ". . . . . . . . \n",
      ". . . X . X . . \n",
      ". . X . . . X . \n",
      ". . . . . . . . \n",
      ". . X . . . X . \n"
     ]
    }
   ],
   "source": [
    "# a demonstration of the knight move generation\n",
    "print_bitboard(get_knight_attack(52))"
   ]
  },
  {
   "cell_type": "markdown",
   "id": "1a256110",
   "metadata": {},
   "source": [
    "## Rook\n",
    "\n",
    "For sliding pieces, it's a bit more difficult to generate move sets. Knights don't have blocking pieces, which makes their lookup table simple. Sliding pieces need to take blocking pieces into account, resulting in large lookup tables.\n",
    "\n",
    "This requires magic bitboards, which function as follows.\n",
    "\n",
    "Start by generating a mask for a given piece at a given position, this mask is always the same for that given position, like the knight mask. The mask is all of the squares that can be occupied and block your piece from moving further, so edges don't need to be included\n",
    "\n",
    "```\n",
    " A rook mask: \n",
    "0 0 0 0 0 0 0 0\n",
    "0 0 0 0 1 0 0 0\n",
    "0 0 0 0 1 0 0 0\n",
    "0 0 0 0 1 0 0 0\n",
    "0 1 1 1 0 1 1 0\n",
    "0 0 0 0 1 0 0 0\n",
    "0 0 0 0 1 0 0 0\n",
    "0 0 0 0 0 0 0 0\n",
    "```\n",
    " \n",
    "Next we need to create a subset of this mask. This subset contains only the positions where there are blocking pieces. This is generated by an & operation between the rook mask and a bitboard that contains all pieces on the board, called the blocker board. The subset is called a masked blocker board.\n",
    "\n",
    "```\n",
    " A rook mask             A blocker board       A masked blocker board  \n",
    "0 0 0 0 0 0 0 0          0 0 0 0 0 0 0 0          0 0 0 0 0 0 0 0  \n",
    "0 0 0 0 1 0 0 0          0 1 0 0 1 0 0 1          0 0 0 0 1 0 0 0  \n",
    "0 0 0 0 1 0 0 0          1 0 0 0 0 0 0 0          0 0 0 0 0 0 0 0  \n",
    "0 0 0 0 1 0 0 0          0 0 0 0 1 0 0 0          0 0 0 0 1 0 0 0  \n",
    "0 1 1 1 0 1 1 0    &     0 1 1 0 0 0 0 0     =    0 1 1 0 0 0 0 0  \n",
    "0 0 0 0 1 0 0 0          0 0 0 0 0 0 0 0          0 0 0 0 0 0 0 0  \n",
    "0 0 0 0 1 0 0 0          1 0 0 0 1 0 1 0          0 0 0 0 1 0 0 0  \n",
    "0 0 0 0 0 0 0 0          0 0 0 0 0 0 0 0          0 0 0 0 0 0 0 0  \n",
    "```\n",
    "\n",
    "This masked blocker board is mapped to an attack bitboard. This is done with a hash table using magic numbers.\n",
    "\n",
    "```\n",
    "A masked blocker board     An attack bitboard\n",
    "   0 0 0 0 0 0 0 0           0 0 0 0 0 0 0 0 \n",
    "   0 0 0 0 1 0 0 0           0 0 0 0 0 0 0 0 \n",
    "   0 0 0 0 0 0 0 0           0 0 0 0 0 0 0 0 \n",
    "   0 0 0 0 1 0 0 0           0 0 0 0 1 0 0 0 \n",
    "   0 1 1 0 0 0 0 0    ->     0 0 1 1 0 1 1 1 \n",
    "   0 0 0 0 0 0 0 0           0 0 0 0 1 0 0 0 \n",
    "   0 0 0 0 1 0 0 0           0 0 0 0 1 0 0 0 \n",
    "   0 0 0 0 0 0 0 0           0 0 0 0 0 0 0 0 \n",
    "```\n",
    "\n",
    "The resulting attack bitboard may include moves that capture your own pieces, however these moves are easily removed afterward: moveboard &= ~friendly_pieces)\n",
    "\n",
    "There are many possible masked blocker boards, too many to use as keys, so they are hashed into a smaller key, which can be used to look up attack bitboards. To get a key, the masked blocker board is multiplied with a magic number, the result of this is shifted 54 bit positions (only the first 10 are kept) and that gives us the key. There is one magic number per square\n",
    "\n",
    "```\n",
    "A masked blocker board\n",
    "   0 0 0 0 0 0 0 0\n",
    "   0 0 0 0 1 0 0 0\n",
    "   0 0 0 0 0 0 0 0\n",
    "   0 0 0 0 1 0 0 0\n",
    "   0 1 1 0 0 0 0 0       *    magic number = new number\n",
    "   0 0 0 0 0 0 0 0\n",
    "   0 0 0 0 1 0 0 0\n",
    "   0 0 0 0 0 0 0 0\n",
    "   \n",
    "new number >> 54 = key\n",
    "```\n",
    "\n",
    "more info:\n",
    "https://rhysre.net/fast-chess-move-generation-with-magic-bitboards.html \n",
    "\n",
    "To actually create this lookup table, do the following:\n",
    "1. create a mask for each square (only 64 in total, not that complicated)\n",
    "2. generate all possible masked blocker boards on each square\n",
    "    - This is achieved by getting all subsets of the mask in this position\n",
    "3. generate the attack bitboards for each masked blocker board\n",
    "4. try random integers and check if they are magic\n",
    "    - a magic number is magic if it maps each masked blocker board to a unique attack board (or if it maps different blocker boards to the same, correct attack board)\n",
    "\n",
    "more info:\n",
    "https://stackoverflow.com/questions/16925204/sliding-move-generation-using-magic-bitboard\n",
    "https://www.chessprogramming.net/generating-magic-multipliers/"
   ]
  },
  {
   "cell_type": "code",
   "execution_count": 11,
   "id": "d08b2167",
   "metadata": {},
   "outputs": [],
   "source": [
    "def get_rook_mask(position):\n",
    "    \"\"\"\n",
    "    returns a bitboard with all the positions that could block a rook given the position of the rook\n",
    "    position: an integer (0-63) that gives the position of the rook\n",
    "    \"\"\"\n",
    "\n",
    "    # initialize mask\n",
    "    mask_bb = 0\n",
    "    \n",
    "    #look above the rook\n",
    "    north_destination = position - 8\n",
    "    while north_destination >= 8:\n",
    "        mask_bb |= 1 << north_destination\n",
    "        north_destination -= 8\n",
    "        \n",
    "    #look below the rook\n",
    "    south_destination = position + 8\n",
    "    while south_destination < 56:\n",
    "        mask_bb |= 1 << south_destination\n",
    "        south_destination += 8\n",
    "        \n",
    "    #look left of the rook\n",
    "    west = position%8\n",
    "    for i in range(west - 1):\n",
    "        mask_bb |= 1 << position - (i + 1)\n",
    "        \n",
    "    #look right of the rook\n",
    "    east = 8 - position%8\n",
    "    for i in range(east - 2):\n",
    "        mask_bb |= 1 << position + (i + 1)\n",
    "        \n",
    "    return mask_bb"
   ]
  },
  {
   "cell_type": "code",
   "execution_count": 12,
   "id": "ad2ab0a8",
   "metadata": {
    "scrolled": true
   },
   "outputs": [
    {
     "name": "stdout",
     "output_type": "stream",
     "text": [
      ". . . . . . . . \n",
      ". . . . X . . . \n",
      ". X X X . X X . \n",
      ". . . . X . . . \n",
      ". . . . X . . . \n",
      ". . . . X . . . \n",
      ". . . . X . . . \n",
      ". . . . . . . . \n"
     ]
    }
   ],
   "source": [
    "# a demonstration of rook mask generation\n",
    "print_bitboard(get_rook_mask(20))"
   ]
  },
  {
   "cell_type": "code",
   "execution_count": 13,
   "id": "83ac3cdd",
   "metadata": {},
   "outputs": [],
   "source": [
    "from itertools import combinations\n",
    "\n",
    "def get_masked_blocker_boards(position, mask_bb):\n",
    "    \"\"\"\n",
    "    generate all possible blocker boards for a given position and blocker board\n",
    "    usable for both rook and bishop\n",
    "    position: integer position for which we create blocker boards\n",
    "    \"\"\"\n",
    "    \n",
    "    # initialize output\n",
    "    masked_blocker_boards_bb_list = [0]\n",
    "    \n",
    "    # get the integer positions of the set bits in the mask\n",
    "    integer_positions = []\n",
    "    for i in range(64):\n",
    "        if (mask_bb >> i) & 1:\n",
    "            integer_positions.append(i)\n",
    "            \n",
    "    # calculate all possible combinations of positions\n",
    "    position_combinations = sum(map(lambda r: list(combinations(integer_positions, r)), range(1, len(integer_positions)+1)), [])\n",
    "    \n",
    "    # turn the integer positions into blockerboards again\n",
    "    for position_combination in position_combinations:\n",
    "        masked_blocker_board = 0\n",
    "        for position in position_combination:\n",
    "            masked_blocker_board |= 1 << position\n",
    "        masked_blocker_boards_bb_list.append(masked_blocker_board)\n",
    "        \n",
    "    return masked_blocker_boards_bb_list"
   ]
  },
  {
   "cell_type": "code",
   "execution_count": 14,
   "id": "fbca572d",
   "metadata": {},
   "outputs": [
    {
     "name": "stdout",
     "output_type": "stream",
     "text": [
      "[0, 4096, 131072, 262144, 524288, 2097152, 4194304, 268435456, 68719476736, 17592186044416, 4503599627370496, 135168, 266240, 528384, 2101248, 4198400, 268439552, 68719480832, 17592186048512, 4503599627374592, 393216, 655360, 2228224, 4325376, 268566528, 68719607808, 17592186175488, 4503599627501568, 786432, 2359296, 4456448, 268697600, 68719738880, 17592186306560, 4503599627632640, 2621440, 4718592, 268959744, 68720001024, 17592186568704, 4503599627894784, 6291456, 270532608, 68721573888, 17592188141568, 4503599629467648, 272629760, 68723671040, 17592190238720, 4503599631564800, 68987912192, 17592454479872, 4503599895805952, 17660905521152, 4503668346847232, 4521191813414912, 397312, 659456, 2232320, 4329472, 268570624, 68719611904, 17592186179584, 4503599627505664, 790528, 2363392, 4460544, 268701696, 68719742976, 17592186310656, 4503599627636736, 2625536, 4722688, 268963840, 68720005120, 17592186572800, 4503599627898880, 6295552, 270536704, 68721577984, 17592188145664, 4503599629471744, 272633856, 68723675136, 17592190242816, 4503599631568896, 68987916288, 17592454483968, 4503599895810048, 17660905525248, 4503668346851328, 4521191813419008, 917504, 2490368, 4587520, 268828672, 68719869952, 17592186437632, 4503599627763712, 2752512, 4849664, 269090816, 68720132096, 17592186699776, 4503599628025856, 6422528, 270663680, 68721704960, 17592188272640, 4503599629598720, 272760832, 68723802112, 17592190369792, 4503599631695872, 68988043264, 17592454610944, 4503599895937024, 17660905652224, 4503668346978304, 4521191813545984, 2883584, 4980736, 269221888, 68720263168, 17592186830848, 4503599628156928, 6553600, 270794752, 68721836032, 17592188403712, 4503599629729792, 272891904, 68723933184, 17592190500864, 4503599631826944, 68988174336, 17592454742016, 4503599896068096, 17660905783296, 4503668347109376, 4521191813677056, 6815744, 271056896, 68722098176, 17592188665856, 4503599629991936, 273154048, 68724195328, 17592190763008, 4503599632089088, 68988436480, 17592455004160, 4503599896330240, 17660906045440, 4503668347371520, 4521191813939200, 274726912, 68725768192, 17592192335872, 4503599633661952, 68990009344, 17592456577024, 4503599897903104, 17660907618304, 4503668348944384, 4521191815512064, 68992106496, 17592458674176, 4503599900000256, 17660909715456, 4503668351041536, 4521191817609216, 17661173956608, 4503668615282688, 4521192081850368, 4521260532891648, 921600, 2494464, 4591616, 268832768, 68719874048, 17592186441728, 4503599627767808, 2756608, 4853760, 269094912, 68720136192, 17592186703872, 4503599628029952, 6426624, 270667776, 68721709056, 17592188276736, 4503599629602816, 272764928, 68723806208, 17592190373888, 4503599631699968, 68988047360, 17592454615040, 4503599895941120, 17660905656320, 4503668346982400, 4521191813550080, 2887680, 4984832, 269225984, 68720267264, 17592186834944, 4503599628161024, 6557696, 270798848, 68721840128, 17592188407808, 4503599629733888, 272896000, 68723937280, 17592190504960, 4503599631831040, 68988178432, 17592454746112, 4503599896072192, 17660905787392, 4503668347113472, 4521191813681152, 6819840, 271060992, 68722102272, 17592188669952, 4503599629996032, 273158144, 68724199424, 17592190767104, 4503599632093184, 68988440576, 17592455008256, 4503599896334336, 17660906049536, 4503668347375616, 4521191813943296, 274731008, 68725772288, 17592192339968, 4503599633666048, 68990013440, 17592456581120, 4503599897907200, 17660907622400, 4503668348948480, 4521191815516160, 68992110592, 17592458678272, 4503599900004352, 17660909719552, 4503668351045632, 4521191817613312, 17661173960704, 4503668615286784, 4521192081854464, 4521260532895744, 3014656, 5111808, 269352960, 68720394240, 17592186961920, 4503599628288000, 6684672, 270925824, 68721967104, 17592188534784, 4503599629860864, 273022976, 68724064256, 17592190631936, 4503599631958016, 68988305408, 17592454873088, 4503599896199168, 17660905914368, 4503668347240448, 4521191813808128, 6946816, 271187968, 68722229248, 17592188796928, 4503599630123008, 273285120, 68724326400, 17592190894080, 4503599632220160, 68988567552, 17592455135232, 4503599896461312, 17660906176512, 4503668347502592, 4521191814070272, 274857984, 68725899264, 17592192466944, 4503599633793024, 68990140416, 17592456708096, 4503599898034176, 17660907749376, 4503668349075456, 4521191815643136, 68992237568, 17592458805248, 4503599900131328, 17660909846528, 4503668351172608, 4521191817740288, 17661174087680, 4503668615413760, 4521192081981440, 4521260533022720, 7077888, 271319040, 68722360320, 17592188928000, 4503599630254080, 273416192, 68724457472, 17592191025152, 4503599632351232, 68988698624, 17592455266304, 4503599896592384, 17660906307584, 4503668347633664, 4521191814201344, 274989056, 68726030336, 17592192598016, 4503599633924096, 68990271488, 17592456839168, 4503599898165248, 17660907880448, 4503668349206528, 4521191815774208, 68992368640, 17592458936320, 4503599900262400, 17660909977600, 4503668351303680, 4521191817871360, 17661174218752, 4503668615544832, 4521192082112512, 4521260533153792, 275251200, 68726292480, 17592192860160, 4503599634186240, 68990533632, 17592457101312, 4503599898427392, 17660908142592, 4503668349468672, 4521191816036352, 68992630784, 17592459198464, 4503599900524544, 17660910239744, 4503668351565824, 4521191818133504, 17661174480896, 4503668615806976, 4521192082374656, 4521260533415936, 68994203648, 17592460771328, 4503599902097408, 17660911812608, 4503668353138688, 4521191819706368, 17661176053760, 4503668617379840, 4521192083947520, 4521260534988800, 17661178150912, 4503668619476992, 4521192086044672, 4521260537085952, 4521260801327104, 3018752, 5115904, 269357056, 68720398336, 17592186966016, 4503599628292096, 6688768, 270929920, 68721971200, 17592188538880, 4503599629864960, 273027072, 68724068352, 17592190636032, 4503599631962112, 68988309504, 17592454877184, 4503599896203264, 17660905918464, 4503668347244544, 4521191813812224, 6950912, 271192064, 68722233344, 17592188801024, 4503599630127104, 273289216, 68724330496, 17592190898176, 4503599632224256, 68988571648, 17592455139328, 4503599896465408, 17660906180608, 4503668347506688, 4521191814074368, 274862080, 68725903360, 17592192471040, 4503599633797120, 68990144512, 17592456712192, 4503599898038272, 17660907753472, 4503668349079552, 4521191815647232, 68992241664, 17592458809344, 4503599900135424, 17660909850624, 4503668351176704, 4521191817744384, 17661174091776, 4503668615417856, 4521192081985536, 4521260533026816, 7081984, 271323136, 68722364416, 17592188932096, 4503599630258176, 273420288, 68724461568, 17592191029248, 4503599632355328, 68988702720, 17592455270400, 4503599896596480, 17660906311680, 4503668347637760, 4521191814205440, 274993152, 68726034432, 17592192602112, 4503599633928192, 68990275584, 17592456843264, 4503599898169344, 17660907884544, 4503668349210624, 4521191815778304, 68992372736, 17592458940416, 4503599900266496, 17660909981696, 4503668351307776, 4521191817875456, 17661174222848, 4503668615548928, 4521192082116608, 4521260533157888, 275255296, 68726296576, 17592192864256, 4503599634190336, 68990537728, 17592457105408, 4503599898431488, 17660908146688, 4503668349472768, 4521191816040448, 68992634880, 17592459202560, 4503599900528640, 17660910243840, 4503668351569920, 4521191818137600, 17661174484992, 4503668615811072, 4521192082378752, 4521260533420032, 68994207744, 17592460775424, 4503599902101504, 17660911816704, 4503668353142784, 4521191819710464, 17661176057856, 4503668617383936, 4521192083951616, 4521260534992896, 17661178155008, 4503668619481088, 4521192086048768, 4521260537090048, 4521260801331200, 7208960, 271450112, 68722491392, 17592189059072, 4503599630385152, 273547264, 68724588544, 17592191156224, 4503599632482304, 68988829696, 17592455397376, 4503599896723456, 17660906438656, 4503668347764736, 4521191814332416, 275120128, 68726161408, 17592192729088, 4503599634055168, 68990402560, 17592456970240, 4503599898296320, 17660908011520, 4503668349337600, 4521191815905280, 68992499712, 17592459067392, 4503599900393472, 17660910108672, 4503668351434752, 4521191818002432, 17661174349824, 4503668615675904, 4521192082243584, 4521260533284864, 275382272, 68726423552, 17592192991232, 4503599634317312, 68990664704, 17592457232384, 4503599898558464, 17660908273664, 4503668349599744, 4521191816167424, 68992761856, 17592459329536, 4503599900655616, 17660910370816, 4503668351696896, 4521191818264576, 17661174611968, 4503668615938048, 4521192082505728, 4521260533547008, 68994334720, 17592460902400, 4503599902228480, 17660911943680, 4503668353269760, 4521191819837440, 17661176184832, 4503668617510912, 4521192084078592, 4521260535119872, 17661178281984, 4503668619608064, 4521192086175744, 4521260537217024, 4521260801458176, 275513344, 68726554624, 17592193122304, 4503599634448384, 68990795776, 17592457363456, 4503599898689536, 17660908404736, 4503668349730816, 4521191816298496, 68992892928, 17592459460608, 4503599900786688, 17660910501888, 4503668351827968, 4521191818395648, 17661174743040, 4503668616069120, 4521192082636800, 4521260533678080, 68994465792, 17592461033472, 4503599902359552, 17660912074752, 4503668353400832, 4521191819968512, 17661176315904, 4503668617641984, 4521192084209664, 4521260535250944, 17661178413056, 4503668619739136, 4521192086306816, 4521260537348096, 4521260801589248, 68994727936, 17592461295616, 4503599902621696, 17660912336896, 4503668353662976, 4521191820230656, 17661176578048, 4503668617904128, 4521192084471808, 4521260535513088, 17661178675200, 4503668620001280, 4521192086568960, 4521260537610240, 4521260801851392, 17661180248064, 4503668621574144, 4521192088141824, 4521260539183104, 4521260803424256, 4521260805521408, 7213056, 271454208, 68722495488, 17592189063168, 4503599630389248, 273551360, 68724592640, 17592191160320, 4503599632486400, 68988833792, 17592455401472, 4503599896727552, 17660906442752, 4503668347768832, 4521191814336512, 275124224, 68726165504, 17592192733184, 4503599634059264, 68990406656, 17592456974336, 4503599898300416, 17660908015616, 4503668349341696, 4521191815909376, 68992503808, 17592459071488, 4503599900397568, 17660910112768, 4503668351438848, 4521191818006528, 17661174353920, 4503668615680000, 4521192082247680, 4521260533288960, 275386368, 68726427648, 17592192995328, 4503599634321408, 68990668800, 17592457236480, 4503599898562560, 17660908277760, 4503668349603840, 4521191816171520, 68992765952, 17592459333632, 4503599900659712, 17660910374912, 4503668351700992, 4521191818268672, 17661174616064, 4503668615942144, 4521192082509824, 4521260533551104, 68994338816, 17592460906496, 4503599902232576, 17660911947776, 4503668353273856, 4521191819841536, 17661176188928, 4503668617515008, 4521192084082688, 4521260535123968, 17661178286080, 4503668619612160, 4521192086179840, 4521260537221120, 4521260801462272, 275517440, 68726558720, 17592193126400, 4503599634452480, 68990799872, 17592457367552, 4503599898693632, 17660908408832, 4503668349734912, 4521191816302592, 68992897024, 17592459464704, 4503599900790784, 17660910505984, 4503668351832064, 4521191818399744, 17661174747136, 4503668616073216, 4521192082640896, 4521260533682176, 68994469888, 17592461037568, 4503599902363648, 17660912078848, 4503668353404928, 4521191819972608, 17661176320000, 4503668617646080, 4521192084213760, 4521260535255040, 17661178417152, 4503668619743232, 4521192086310912, 4521260537352192, 4521260801593344, 68994732032, 17592461299712, 4503599902625792, 17660912340992, 4503668353667072, 4521191820234752, 17661176582144, 4503668617908224, 4521192084475904, 4521260535517184, 17661178679296, 4503668620005376, 4521192086573056, 4521260537614336, 4521260801855488, 17661180252160, 4503668621578240, 4521192088145920, 4521260539187200, 4521260803428352, 4521260805525504, 275644416, 68726685696, 17592193253376, 4503599634579456, 68990926848, 17592457494528, 4503599898820608, 17660908535808, 4503668349861888, 4521191816429568, 68993024000, 17592459591680, 4503599900917760, 17660910632960, 4503668351959040, 4521191818526720, 17661174874112, 4503668616200192, 4521192082767872, 4521260533809152, 68994596864, 17592461164544, 4503599902490624, 17660912205824, 4503668353531904, 4521191820099584, 17661176446976, 4503668617773056, 4521192084340736, 4521260535382016, 17661178544128, 4503668619870208, 4521192086437888, 4521260537479168, 4521260801720320, 68994859008, 17592461426688, 4503599902752768, 17660912467968, 4503668353794048, 4521191820361728, 17661176709120, 4503668618035200, 4521192084602880, 4521260535644160, 17661178806272, 4503668620132352, 4521192086700032, 4521260537741312, 4521260801982464, 17661180379136, 4503668621705216, 4521192088272896, 4521260539314176, 4521260803555328, 4521260805652480, 68994990080, 17592461557760, 4503599902883840, 17660912599040, 4503668353925120, 4521191820492800, 17661176840192, 4503668618166272, 4521192084733952, 4521260535775232, 17661178937344, 4503668620263424, 4521192086831104, 4521260537872384, 4521260802113536, 17661180510208, 4503668621836288, 4521192088403968, 4521260539445248, 4521260803686400, 4521260805783552, 17661180772352, 4503668622098432, 4521192088666112, 4521260539707392, 4521260803948544, 4521260806045696, 4521260807618560, 275648512, 68726689792, 17592193257472, 4503599634583552, 68990930944, 17592457498624, 4503599898824704, 17660908539904, 4503668349865984, 4521191816433664, 68993028096, 17592459595776, 4503599900921856, 17660910637056, 4503668351963136, 4521191818530816, 17661174878208, 4503668616204288, 4521192082771968, 4521260533813248, 68994600960, 17592461168640, 4503599902494720, 17660912209920, 4503668353536000, 4521191820103680, 17661176451072, 4503668617777152, 4521192084344832, 4521260535386112, 17661178548224, 4503668619874304, 4521192086441984, 4521260537483264, 4521260801724416, 68994863104, 17592461430784, 4503599902756864, 17660912472064, 4503668353798144, 4521191820365824, 17661176713216, 4503668618039296, 4521192084606976, 4521260535648256, 17661178810368, 4503668620136448, 4521192086704128, 4521260537745408, 4521260801986560, 17661180383232, 4503668621709312, 4521192088276992, 4521260539318272, 4521260803559424, 4521260805656576, 68994994176, 17592461561856, 4503599902887936, 17660912603136, 4503668353929216, 4521191820496896, 17661176844288, 4503668618170368, 4521192084738048, 4521260535779328, 17661178941440, 4503668620267520, 4521192086835200, 4521260537876480, 4521260802117632, 17661180514304, 4503668621840384, 4521192088408064, 4521260539449344, 4521260803690496, 4521260805787648, 17661180776448, 4503668622102528, 4521192088670208, 4521260539711488, 4521260803952640, 4521260806049792, 4521260807622656, 68995121152, 17592461688832, 4503599903014912, 17660912730112, 4503668354056192, 4521191820623872, 17661176971264, 4503668618297344, 4521192084865024, 4521260535906304, 17661179068416, 4503668620394496, 4521192086962176, 4521260538003456, 4521260802244608, 17661180641280, 4503668621967360, 4521192088535040, 4521260539576320, 4521260803817472, 4521260805914624, 17661180903424, 4503668622229504, 4521192088797184, 4521260539838464, 4521260804079616, 4521260806176768, 4521260807749632, 17661181034496, 4503668622360576, 4521192088928256, 4521260539969536, 4521260804210688, 4521260806307840, 4521260807880704, 4521260808142848, 68995125248, 17592461692928, 4503599903019008, 17660912734208, 4503668354060288, 4521191820627968, 17661176975360, 4503668618301440, 4521192084869120, 4521260535910400, 17661179072512, 4503668620398592, 4521192086966272, 4521260538007552, 4521260802248704, 17661180645376, 4503668621971456, 4521192088539136, 4521260539580416, 4521260803821568, 4521260805918720, 17661180907520, 4503668622233600, 4521192088801280, 4521260539842560, 4521260804083712, 4521260806180864, 4521260807753728, 17661181038592, 4503668622364672, 4521192088932352, 4521260539973632, 4521260804214784, 4521260806311936, 4521260807884800, 4521260808146944, 17661181165568, 4503668622491648, 4521192089059328, 4521260540100608, 4521260804341760, 4521260806438912, 4521260808011776, 4521260808273920, 4521260808404992, 17661181169664, 4503668622495744, 4521192089063424, 4521260540104704, 4521260804345856, 4521260806443008, 4521260808015872, 4521260808278016, 4521260808409088, 4521260808536064, 4521260808540160]\n",
      ". . . . . . . . \n",
      ". . . . X . . . \n",
      ". . . . . X X . \n",
      ". . . . . . . . \n",
      ". . . . X . . . \n",
      ". . . . X . . . \n",
      ". . . . . . . . \n",
      ". . . . . . . . \n"
     ]
    }
   ],
   "source": [
    "# a demonstration of masked blocker board generation\n",
    "mask_bb = get_rook_mask(20)\n",
    "masked_bbs = get_masked_blocker_boards(20, mask_bb)\n",
    "print(masked_bbs)\n",
    "print_bitboard(masked_bbs[500])"
   ]
  },
  {
   "cell_type": "code",
   "execution_count": 15,
   "id": "e2ab2f7a",
   "metadata": {},
   "outputs": [],
   "source": [
    "def get_rook_attack(position, rook_masked_blocker_bb):\n",
    "    \"\"\"\n",
    "    calculates the attack bitboard for a given masked blocker bitboard for the rook\n",
    "    position: integer position of the rook\n",
    "    rook_masked_blocker_bb: a masked blocker bitboard for the given position\n",
    "    \"\"\"\n",
    "    \n",
    "    # initialize attack bitboard\n",
    "    attack_bb = 0\n",
    "    \n",
    "    #look above the rook\n",
    "    north_destination = position - 8\n",
    "    while north_destination >= 0:\n",
    "        north_destination_bb = 0\n",
    "        north_destination_bb |= 1 << north_destination\n",
    "        if rook_masked_blocker_bb & north_destination_bb == 0:\n",
    "            attack_bb |= 1 << north_destination\n",
    "        else:\n",
    "            attack_bb |= 1 << north_destination\n",
    "            break\n",
    "        north_destination -= 8\n",
    "        \n",
    "    #look below the rook\n",
    "    south_destination = position + 8\n",
    "    while south_destination < 64:\n",
    "        south_destination_bb = 0\n",
    "        south_destination_bb |= 1 << south_destination\n",
    "        if rook_masked_blocker_bb & south_destination_bb == 0:\n",
    "            attack_bb |= 1 << south_destination\n",
    "        else:\n",
    "            attack_bb |= 1 << south_destination\n",
    "            break\n",
    "        south_destination += 8\n",
    "        \n",
    "    #look left of the rook\n",
    "    west = position%8\n",
    "    for i in range(west):\n",
    "        west_destination = position - (i + 1)\n",
    "        west_destination_bb = 0\n",
    "        west_destination_bb |= 1 << west_destination\n",
    "        if rook_masked_blocker_bb & west_destination_bb == 0:\n",
    "            attack_bb |= 1 << west_destination\n",
    "        else:\n",
    "            attack_bb |= 1 << west_destination\n",
    "            break\n",
    "        \n",
    "    #look right of the rook\n",
    "    east = 8 - position%8\n",
    "    for i in range(east - 1):\n",
    "        east_destination = position + (i + 1)\n",
    "        east_destination_bb = 0\n",
    "        east_destination_bb |= 1 << east_destination\n",
    "        if rook_masked_blocker_bb & east_destination_bb == 0:\n",
    "            attack_bb |= 1 << east_destination\n",
    "        else:\n",
    "            attack_bb |= 1 << east_destination\n",
    "            break\n",
    "    \n",
    "    return attack_bb"
   ]
  },
  {
   "cell_type": "code",
   "execution_count": 16,
   "id": "d5d77f2b",
   "metadata": {},
   "outputs": [
    {
     "name": "stdout",
     "output_type": "stream",
     "text": [
      ". . . . . . . . \n",
      ". . . . X . . . \n",
      ". . . . . X X . \n",
      ". . . . . . . . \n",
      ". . . . X . . . \n",
      ". . . . X . . . \n",
      ". . . . . . . . \n",
      ". . . . . . . . \n",
      "---------------\n",
      ". . . . . . . . \n",
      ". . . . X . . . \n",
      "X X X X . X . . \n",
      ". . . . X . . . \n",
      ". . . . X . . . \n",
      ". . . . . . . . \n",
      ". . . . . . . . \n",
      ". . . . . . . . \n"
     ]
    }
   ],
   "source": [
    "# a demonstration of attack board generation\n",
    "position = 20\n",
    "mask_bb = get_rook_mask(position)\n",
    "masked_bbs = get_masked_blocker_boards(position, mask_bb)\n",
    "print_bitboard(masked_bbs[500])\n",
    "print('---------------')\n",
    "print_bitboard(get_rook_attack(position, masked_bbs[500]))"
   ]
  },
  {
   "cell_type": "code",
   "execution_count": 17,
   "id": "427df108",
   "metadata": {},
   "outputs": [],
   "source": [
    "def count_set_bits(bb):\n",
    "    \"\"\"\n",
    "    Implementation of the Brian Kernighan's algorithm for counting set bits\n",
    "    bb: bitboard\n",
    "    \"\"\"\n",
    "    \n",
    "    count = 0\n",
    "    while(bb):\n",
    "        bb &= (bb - 1)\n",
    "        count += 1\n",
    "        \n",
    "    return count"
   ]
  },
  {
   "cell_type": "code",
   "execution_count": 18,
   "id": "ef1d048f",
   "metadata": {},
   "outputs": [],
   "source": [
    "import random\n",
    "\n",
    "def generate_rook_magicks(position):\n",
    "    \"\"\"\n",
    "    generate a magic number for the rook for a given position\n",
    "    position: integer position for which we want to generate a magic number\n",
    "    \"\"\"\n",
    "    \n",
    "    # get the mask for the given position\n",
    "    mask_bb = get_rook_mask(position)\n",
    "    \n",
    "    # get all masked blocker boards for the given position\n",
    "    masked_blocker_bb_list = get_masked_blocker_boards(position, mask_bb)\n",
    "    \n",
    "    # get all attack boards\n",
    "    attack_bb_list = []\n",
    "    for masked_blocker_bb in masked_blocker_bb_list:\n",
    "        attack_bb_list.append(get_rook_attack(position, masked_blocker_bb))\n",
    "        \n",
    "    # initialize lookup table\n",
    "    index_bits = count_set_bits(mask_bb)\n",
    "    table = {}\n",
    "        \n",
    "    for j in range(100000000000):\n",
    "        # generate a candidate magick number, combine multiple random numbers to decrease the amount of set bits\n",
    "        magic = (random.randint(0, 0xFFFFFFFF) << 32) | random.randint(0, 0xFFFFFFFF) & (random.randint(0, 0xFFFFFFFF) << 32) | random.randint(0, 0xFFFFFFFF)\n",
    "        found = False\n",
    "        \n",
    "        for i in range(len(masked_blocker_bb_list)):\n",
    "            hashed = masked_blocker_bb_list[i] * magic\n",
    "            index = (hashed >> (64 - index_bits))\n",
    "            if index not in table.keys():\n",
    "                table[index] = attack_bb_list[i]\n",
    "            elif table[index] != attack_bb_list[i]:\n",
    "                break\n",
    "            \n",
    "            if i == len(masked_blocker_bb_list) - 1:\n",
    "                found = True\n",
    "                break\n",
    "        if found == True:\n",
    "            break\n",
    "    return magic, table"
   ]
  },
  {
   "cell_type": "code",
   "execution_count": 19,
   "id": "14b5ae0a",
   "metadata": {},
   "outputs": [],
   "source": [
    "# generate magic numbers and their accompanying lookup tables\n",
    "rook_magics = []\n",
    "rook_tables = []\n",
    "for i in range(64):\n",
    "    magic, table = generate_rook_magicks(i)\n",
    "    rook_magics.append(magic)\n",
    "    rook_tables.append(table)"
   ]
  },
  {
   "cell_type": "markdown",
   "id": "23b53c94",
   "metadata": {},
   "source": [
    "## Bishop\n",
    "\n",
    "The same things go for the bishop."
   ]
  },
  {
   "cell_type": "code",
   "execution_count": 20,
   "id": "0bbf88e3",
   "metadata": {},
   "outputs": [],
   "source": [
    "def get_bishop_mask(position):\n",
    "    \"\"\"\n",
    "    returns a bitboard with all the positions that could block a bishop given the position of the bishop\n",
    "    position: an integer (0-63) that gives the position of the bishop\n",
    "    \"\"\"\n",
    "    \n",
    "    # initialize bitboard\n",
    "    mask_bb = 0\n",
    "    \n",
    "    # look left-above the bishop\n",
    "    # reduce values by 9, untill A or H file is reached\n",
    "    north_west_destination = position - 9\n",
    "    while north_west_destination >= 9:\n",
    "        position_bb = 0\n",
    "        position_bb |= 1 << north_west_destination\n",
    "        if (position_bb & 0x8181818181818181) == 0:\n",
    "            mask_bb |= 1 << north_west_destination\n",
    "        else:\n",
    "            break\n",
    "        north_west_destination -= 9\n",
    "            \n",
    "    # look left-below the bishop\n",
    "    # increase values by 7, untill A or H file is reached\n",
    "    south_west_destination = position + 7\n",
    "    while south_west_destination < 56:\n",
    "        position_bb = 0\n",
    "        position_bb |= 1 << south_west_destination\n",
    "        if (position_bb & 0x8181818181818181) == 0:\n",
    "            mask_bb |= 1 << south_west_destination\n",
    "        else:\n",
    "            break\n",
    "        south_west_destination += 7\n",
    "            \n",
    "    # look right-above the bishop\n",
    "    # reduce values by 7, untill A or H file is reached\n",
    "    north_east_destination = position - 7\n",
    "    while north_east_destination >= 9:\n",
    "        position_bb = 0\n",
    "        position_bb |= 1 << north_east_destination\n",
    "        if (position_bb & 0x8181818181818181) == 0:\n",
    "            mask_bb |= 1 << north_east_destination\n",
    "        else:\n",
    "            break\n",
    "        north_east_destination -= 7\n",
    "            \n",
    "    # look right-below the bishop\n",
    "    # increase values by 9, untill A or H file is reached\n",
    "    south_east_destination = position + 9\n",
    "    while south_east_destination < 56:\n",
    "        position_bb = 0\n",
    "        position_bb |= 1 << south_east_destination\n",
    "        if (position_bb & 0x8181818181818181) == 0:\n",
    "            mask_bb |= 1 << south_east_destination\n",
    "        else:\n",
    "            break\n",
    "        south_east_destination += 9\n",
    "            \n",
    "    return mask_bb"
   ]
  },
  {
   "cell_type": "code",
   "execution_count": 21,
   "id": "86608e20",
   "metadata": {
    "scrolled": true
   },
   "outputs": [
    {
     "name": "stdout",
     "output_type": "stream",
     "text": [
      ". . . . . . . . \n",
      ". . . . X . . . \n",
      ". . . X . . . . \n",
      ". . X . . . . . \n",
      ". X . . . . . . \n",
      ". . . . . . . . \n",
      ". X . . . . . . \n",
      ". . . . . . . . \n"
     ]
    }
   ],
   "source": [
    "# a demonstration of bishop mask generation\n",
    "print_bitboard(get_bishop_mask(40))"
   ]
  },
  {
   "cell_type": "code",
   "execution_count": 22,
   "id": "05531cd5",
   "metadata": {
    "scrolled": true
   },
   "outputs": [
    {
     "name": "stdout",
     "output_type": "stream",
     "text": [
      "[0, 4096, 524288, 67108864, 8589934592, 562949953421312, 528384, 67112960, 8589938688, 562949953425408, 67633152, 8590458880, 562949953945600, 8657043456, 562950020530176, 562958543355904, 67637248, 8590462976, 562949953949696, 8657047552, 562950020534272, 562958543360000, 8657567744, 562950021054464, 562958543880192, 562958610464768, 8657571840, 562950021058560, 562958543884288, 562958610468864, 562958610989056, 562958610993152]\n",
      ". . . . . . . . \n",
      ". . . . . . . . \n",
      ". . . X . . . . \n",
      ". . X . . . . . \n",
      ". . . . . . . . \n",
      ". . . . . . . . \n",
      ". . . . . . . . \n",
      ". . . . . . . . \n"
     ]
    }
   ],
   "source": [
    "# a demonstration of masked blocker board generation\n",
    "mask_bb = get_bishop_mask(40)\n",
    "masked_bbs = get_masked_blocker_boards(40, mask_bb)\n",
    "print(masked_bbs)\n",
    "print_bitboard(masked_bbs[10])"
   ]
  },
  {
   "cell_type": "code",
   "execution_count": 23,
   "id": "5744305a",
   "metadata": {},
   "outputs": [],
   "source": [
    "def get_bishop_attack(position, bishop_masked_blocker_bb):\n",
    "    \"\"\"\n",
    "    calculates the attack bitboard for a given masked blocker bitboard for the bishop\n",
    "    position: integer position of the bishop\n",
    "    bishop_masked_blocker_bb: a masked blocker bitboard for the given position\n",
    "    \"\"\"\n",
    "    \n",
    "    # initialize attack bitboard\n",
    "    attack_bb = 0\n",
    "\n",
    "    # look left-above the bishop\n",
    "    # reduce values by 9, untill A or H file is reached\n",
    "    # only if the bishop isn't on the left file or top rank\n",
    "    if ((position > 7) & (position % 8 != 0)):\n",
    "        north_west_destination = position - 9\n",
    "        position_bb = 0\n",
    "        position_bb |= 1 << north_west_destination\n",
    "        while (((bishop_masked_blocker_bb & position_bb) == 0) & ((position_bb & 0xFF818181818181FF) == 0)):\n",
    "            attack_bb |= 1 << north_west_destination\n",
    "            north_west_destination -= 9\n",
    "            position_bb |= 1 << north_west_destination\n",
    "        attack_bb |= 1 << north_west_destination\n",
    "            \n",
    "    # look left-below the bishop\n",
    "    # increase values by 7, untill A or H file is reached\n",
    "    if ((position < 56) & (position % 8 != 0)):\n",
    "        south_west_destination = position + 7\n",
    "        position_bb = 0\n",
    "        position_bb |= 1 << south_west_destination\n",
    "        while (((bishop_masked_blocker_bb & position_bb) == 0) & ((position_bb & 0xFF818181818181FF) == 0)):\n",
    "            attack_bb |= 1 << south_west_destination\n",
    "            south_west_destination += 7\n",
    "            position_bb |= 1 << south_west_destination\n",
    "        attack_bb |= 1 << south_west_destination\n",
    "            \n",
    "    # look right-above the bishop\n",
    "    # reduce values by 7, untill A or H file is reached\n",
    "    if ((position > 7) & ((position + 1) % 8 != 0)):\n",
    "        north_east_destination = position - 7\n",
    "        position_bb = 0\n",
    "        position_bb |= 1 << north_east_destination\n",
    "        while (((bishop_masked_blocker_bb & position_bb) == 0) & ((position_bb & 0xFF818181818181FF) == 0)):\n",
    "            attack_bb |= 1 << north_east_destination\n",
    "            north_east_destination -= 7\n",
    "            position_bb |= 1 << north_east_destination\n",
    "        attack_bb |= 1 << north_east_destination\n",
    "            \n",
    "    # look right-below the bishop\n",
    "    # increase values by 9, untill A or H file is reached\n",
    "    if ((position < 56) & ((position + 1) % 8 != 0)):\n",
    "        south_east_destination = position + 9\n",
    "        position_bb = 0\n",
    "        position_bb |= 1 << south_east_destination\n",
    "        while (((bishop_masked_blocker_bb & position_bb) == 0) & ((position_bb & 0xFF818181818181FF) == 0)):\n",
    "            attack_bb |= 1 << south_east_destination\n",
    "            south_east_destination += 9\n",
    "            position_bb |= 1 << south_east_destination\n",
    "        attack_bb |= 1 << south_east_destination\n",
    "            \n",
    "    return attack_bb"
   ]
  },
  {
   "cell_type": "code",
   "execution_count": 24,
   "id": "db1d0dba",
   "metadata": {
    "scrolled": true
   },
   "outputs": [
    {
     "name": "stdout",
     "output_type": "stream",
     "text": [
      "[0, 2048, 262144, 17179869184, 8796093022208, 4503599627370496, 264192, 17179871232, 8796093024256, 4503599627372544, 17180131328, 8796093284352, 4503599627632640, 8813272891392, 4503616807239680, 4512395720392704, 17180133376, 8796093286400, 4503599627634688, 8813272893440, 4503616807241728, 4512395720394752, 8813273153536, 4503616807501824, 4512395720654848, 4512412900261888, 8813273155584, 4503616807503872, 4512395720656896, 4512412900263936, 4512412900524032, 4512412900526080]\n",
      ". . . . . . . . \n",
      ". . . . . . . . \n",
      ". . X . . . . . \n",
      ". . . . . . . . \n",
      ". . X . . . . . \n",
      ". . . X . . . . \n",
      ". . . . X . . . \n",
      ". . . . . . . . \n",
      "---------------\n",
      ". . . . . . . . \n",
      ". . . . . . . . \n",
      "X . X . . . . . \n",
      ". . . . . . . . \n",
      "X . X . . . . . \n",
      ". . . . . . . . \n",
      ". . . . . . . . \n",
      ". . . . . . . . \n",
      "17180131328\n"
     ]
    }
   ],
   "source": [
    "# a demonstration of attack board generation\n",
    "position = 25\n",
    "mask_bb = get_bishop_mask(position)\n",
    "masked_bbs = get_masked_blocker_boards(position, mask_bb)\n",
    "print(masked_bbs)\n",
    "print_bitboard(masked_bbs[30])\n",
    "print('---------------')\n",
    "print_bitboard(get_bishop_attack(position, masked_bbs[30]))\n",
    "\n",
    "print(masked_bbs[30] & get_bishop_attack(position, masked_bbs[30]))"
   ]
  },
  {
   "cell_type": "code",
   "execution_count": 25,
   "id": "ea718ac3",
   "metadata": {},
   "outputs": [],
   "source": [
    "import random\n",
    "\n",
    "def generate_bishop_magicks(position):\n",
    "    \"\"\"\n",
    "    generate a magic number for the bishop for a given position\n",
    "    position: integer position for which we want to generate a magic number\n",
    "    \"\"\"\n",
    "    \n",
    "    # get the mask for the given position\n",
    "    mask_bb = get_bishop_mask(position)\n",
    "    \n",
    "    # get all masked blocker boards for the given position\n",
    "    masked_blocker_bb_list = get_masked_blocker_boards(position, mask_bb)\n",
    "    \n",
    "    # get all attack boards\n",
    "    attack_bb_list = []\n",
    "    for masked_blocker_bb in masked_blocker_bb_list:\n",
    "        attack_bb_list.append(get_bishop_attack(position, masked_blocker_bb))\n",
    "        \n",
    "    # initialize lookup table\n",
    "    index_bits = count_set_bits(mask_bb)\n",
    "    table = {}\n",
    "        \n",
    "    for j in range(100000000000):\n",
    "        # generate a candidate magick number, combine multiple random numbers to decrease the amount of set bits\n",
    "        magic = (random.randint(0, 0xFFFFFFFF) << 32) | random.randint(0, 0xFFFFFFFF) & (random.randint(0, 0xFFFFFFFF) << 32) | random.randint(0, 0xFFFFFFFF)\n",
    "        found = False\n",
    "        \n",
    "        for i in range(len(masked_blocker_bb_list)):\n",
    "            hashed = masked_blocker_bb_list[i] * magic\n",
    "            index = (hashed >> (64 - index_bits))\n",
    "            if index not in table.keys():\n",
    "                table[index] = attack_bb_list[i]\n",
    "            elif table[index] != attack_bb_list[i]:\n",
    "                break\n",
    "            \n",
    "            if i == len(masked_blocker_bb_list) - 1:\n",
    "                found = True\n",
    "                break\n",
    "        if found == True:\n",
    "            break\n",
    "    return magic, table"
   ]
  },
  {
   "cell_type": "code",
   "execution_count": 26,
   "id": "1097c3c4",
   "metadata": {},
   "outputs": [],
   "source": [
    "# generate magic numbers and their accompanying lookup tables\n",
    "bishop_magics = []\n",
    "bishop_tables = []\n",
    "for i in range(64):\n",
    "    magic, table = generate_bishop_magicks(i)\n",
    "    bishop_magics.append(magic)\n",
    "    bishop_tables.append(table)"
   ]
  },
  {
   "cell_type": "code",
   "execution_count": 27,
   "id": "ee41cf8b",
   "metadata": {
    "scrolled": true
   },
   "outputs": [
    {
     "name": "stdout",
     "output_type": "stream",
     "text": [
      "{0: 2833579985862656, 12749921012: 2833579977474048, 1631989889550: 2833578903732224, 208894705862497: 2833441464778752, 6684630587599914: 2832480474234880, 26738522350399658: 2815849278734336, 1644739810562: 2833578903732224, 208907455783509: 2833441464778752, 6684643337520926: 2832480465846272, 26738535100320670: 2815849278734336, 210526695752048: 2833441464778752, 6686262577489465: 2832479392104448, 26740154340289208: 2815849278734336, 6893525293462411: 2832341953150976, 26947417056262155: 2815849278734336, 33423152937999572: 2814749767106560, 210539445673060: 2833441464778752, 6686275327410477: 2832479392104448, 26740167090210220: 2815849278734336, 6893538043383423: 2832341953150976, 26947429806183167: 2815849278734336, 33423165687920584: 2814749767106560, 6895157283351962: 2832341953150976, 26949049046151706: 2815849278734336, 33424784927889123: 2814749767106560, 33632047643862069: 2814749767106560, 6895170033272974: 2832341953150976, 26949061796072718: 2815849278734336, 33424797677810135: 2814749767106560, 33632060393783081: 2814749767106560, 33633679633751620: 2814749767106560, 33633692383672632: 2814749767106560}\n"
     ]
    }
   ],
   "source": [
    "print(bishop_tables[58])"
   ]
  },
  {
   "cell_type": "markdown",
   "id": "cbbfe6b9",
   "metadata": {},
   "source": [
    "why are magic numbers better than just using masked blocker boards as indexes? how is it faster????"
   ]
  },
  {
   "cell_type": "markdown",
   "id": "8c467c25",
   "metadata": {},
   "source": [
    "## Pawn\n",
    "\n",
    "The pawn gets two move board generator functions, one for attacks and one for normal moves. The one for normal moves is used to create two lookup tables, one for unblocked pawns and one for blocked pawns. \n",
    "- There is a need to check for rankwise errors, even though pawns can never be on the last rank. The current implementation has an output for every position index\n",
    "- No need to check for filewise errors, this function doesn't allow for sideways movement\n",
    "- The numerical position is used as an index, meaning that some parts of the lookup table should never be used in a real game\n",
    "\n",
    "The one for attacks creates one lookup table. It generates diagonal moves whose validity are checked during runtime by checking if they correspond with an enemy piece."
   ]
  },
  {
   "cell_type": "code",
   "execution_count": 28,
   "id": "0e36fc79",
   "metadata": {},
   "outputs": [],
   "source": [
    "def get_pawn_move(position, color, blocked):\n",
    "    \"\"\"\n",
    "    returns a bitboard with one or two squares in front of the pawn set.\n",
    "    position: an integer (0-63) that gives the position of the pawn\n",
    "    color: an integer that represents the color of the pawn\n",
    "    blocked: a boolean that indicates if the pawn is blocked or not\n",
    "    \"\"\"\n",
    "    \n",
    "    # turn the position into a bitboard\n",
    "    position_bb = 0\n",
    "    position_bb |= 1 << position\n",
    "    \n",
    "    # determine direction through color\n",
    "    if color == 0:\n",
    "        direction = -1\n",
    "    else:\n",
    "        direction = 1\n",
    "    \n",
    "    # position for the pawn moves\n",
    "    # check if pawn is on starting rank\n",
    "    if (48 - color*40) <= position and position < (56 - color*40) and blocked == False:\n",
    "        pawn_moves = [8, 16]\n",
    "    else:\n",
    "        pawn_moves = [8]\n",
    "    \n",
    "    # initialize bitboard\n",
    "    attack_bb = 0\n",
    "    \n",
    "    # loop over the pawn moves and add the corresponding squares to the bitboard\n",
    "    for move in pawn_moves:\n",
    "        destination = position + direction*move\n",
    "        # check for rankwise (rowwise) errors by checking if the destination is 0-63 (this can't occur in chess, but the implementation calls for it)\n",
    "        if destination >= 0 and destination < 64:\n",
    "            # add to attack bitboard\n",
    "            attack_bb |= 1 << destination\n",
    "    return attack_bb"
   ]
  },
  {
   "cell_type": "code",
   "execution_count": 29,
   "id": "bcee6978",
   "metadata": {},
   "outputs": [],
   "source": [
    "# generate lookup tables\n",
    "unblocked_pawn_move_table = [[], []]\n",
    "blocked_pawn_move_table = [[], []]\n",
    "\n",
    "# iterate over all board positions\n",
    "for i in range(64):\n",
    "    # iterate over both colors\n",
    "    for j in range(2):\n",
    "        unblocked_pawn_move_table[j].append(get_pawn_move(i, j, False))\n",
    "        blocked_pawn_move_table[j].append(get_pawn_move(i, j, True))\n",
    "        "
   ]
  },
  {
   "cell_type": "code",
   "execution_count": 30,
   "id": "ed31c4af",
   "metadata": {},
   "outputs": [
    {
     "name": "stdout",
     "output_type": "stream",
     "text": [
      ". . . . . . . . \n",
      ". . . . . . . . \n",
      ". . . . . . . . \n",
      ". . . . . . . . \n",
      ". X . . . . . . \n",
      ". X . . . . . . \n",
      ". . . . . . . . \n",
      ". . . . . . . . \n",
      "-------------------\n",
      ". . . . . . . . \n",
      ". . . . . . . . \n",
      ". . . . . . . . \n",
      ". . . . . . . . \n",
      ". . . . . . . . \n",
      ". X . . . . . . \n",
      ". . . . . . . . \n",
      ". . . . . . . . \n"
     ]
    }
   ],
   "source": [
    "print_bitboard(unblocked_pawn_move_table[0][49])\n",
    "print('-------------------')\n",
    "print_bitboard(blocked_pawn_move_table[0][49])"
   ]
  },
  {
   "cell_type": "code",
   "execution_count": 31,
   "id": "a72f4afc",
   "metadata": {},
   "outputs": [],
   "source": [
    "def get_pawn_attack(position, color):\n",
    "    \"\"\"\n",
    "    returns a bitboard with the three squares in front of the pawn set.\n",
    "    position: an integer (0-63) that gives the position of the pawn.\n",
    "    color: an integer that represents the color of the pawn\n",
    "    \"\"\"\n",
    "    \n",
    "    # turn the position into a bitboard\n",
    "    position_bb = 0\n",
    "    position_bb |= 1 << position\n",
    "    \n",
    "    # position for the pawn moves\n",
    "    pawn_moves = [7, 9]\n",
    "    \n",
    "    # initialize bitboard\n",
    "    attack_bb = 0\n",
    "    \n",
    "    # determine direction through color\n",
    "    if color == 0:\n",
    "        direction = -1\n",
    "    else:\n",
    "        direction = 1\n",
    "    \n",
    "    # loop over the pawn moves and add the corresponding squares to the bitboard\n",
    "    for move in pawn_moves:\n",
    "        destination = position + direction*move\n",
    "        # turn the move into a bitboard\n",
    "        # check for rankwise (rowwise) errors by checking if the destination is 0-63\n",
    "        if destination >= 0 and destination < 64:\n",
    "            # initialize temporary destination bitboard\n",
    "            destination_bb = 0\n",
    "            destination_bb |= 1 << destination\n",
    "            # check for filewise (columnwise) errors\n",
    "            # the first operation determines if the king is on the A file (position_bb & 0x0101010101010101) or on the H file (position_bb & 0x8080808080808080)\n",
    "            # so this: (position_bb & 0x0101010101010101) != 0 is true if the king is on the A file\n",
    "            # the second operation check if the destination is on the H file (dest_bb & 0x8080808080808080) or on the A file (dest_bb & 0x0101010101010101) to see if the king crossed the board borders\n",
    "            if not ((position_bb & 0x0101010101010101) != 0 and (destination_bb & 0x8080808080808080) != 0) and \\\n",
    "               not ((position_bb & 0x8080808080808080) != 0 and (destination_bb & 0x0101010101010101) != 0):\n",
    "                # if the move is valid, set the corresponding bit in the bitboard\n",
    "                attack_bb |= 1 << destination\n",
    "    return attack_bb"
   ]
  },
  {
   "cell_type": "code",
   "execution_count": 32,
   "id": "05c639d4",
   "metadata": {},
   "outputs": [],
   "source": [
    "# generate lookup tables\n",
    "pawn_table = [[], []]\n",
    "\n",
    "# iterate over all board positions\n",
    "for i in range(64):\n",
    "    # iterate over both colors\n",
    "    for j in range(2):\n",
    "        pawn_table[j].append(get_pawn_attack(i, j))"
   ]
  },
  {
   "cell_type": "markdown",
   "id": "ce8e3175",
   "metadata": {},
   "source": [
    "## King\n",
    "\n",
    "The king can only move to 8 squares, like the knight, its attack bitboards are also stored in a lookup table that is generated at the initialization of the engine."
   ]
  },
  {
   "cell_type": "code",
   "execution_count": 33,
   "id": "1331d6a7",
   "metadata": {},
   "outputs": [],
   "source": [
    "def get_king_attack(position):\n",
    "    \"\"\"\n",
    "    returns a bitboard with all the possible king moves starting from the given position\n",
    "    position: an integer (0-63) that gives the position of the king.\n",
    "    \"\"\"\n",
    "    \n",
    "    # turn the position into a bitboard\n",
    "    position_bb = 0\n",
    "    position_bb |= 1 << position\n",
    "    \n",
    "    # positions for king moves\n",
    "    # these indicate what the possible positions of a knight are relative to a given position (input)\n",
    "    king_moves = [-9, -8, -7, -1, 1, 7, 8, 9]\n",
    "    \n",
    "    # initialize bitboard\n",
    "    attack_bb = 0\n",
    "    # loop over the king moves and add the corresponding squares to the bitboard\n",
    "    for move in king_moves:\n",
    "        destination = position + move\n",
    "        # turn the move into a bitboard\n",
    "        # check for rankwise (rowwise) errors by checking if the destination is 0-63\n",
    "        if destination >= 0 and destination < 64:\n",
    "            # initialize temporary destination bitboard\n",
    "            destination_bb = 0\n",
    "            destination_bb |= 1 << destination\n",
    "            # check for filewise (columnwise) errors\n",
    "            # the first operation determines if the king is on the A file (position_bb & 0x0101010101010101) or on the H file (position_bb & 0x8080808080808080)\n",
    "            # so this: (position_bb & 0x0101010101010101) != 0 is true if the king is on the A file\n",
    "            # the second operation check if the destination is on the H file (dest_bb & 0x8080808080808080) or on the A file (dest_bb & 0x0101010101010101) to see if the king crossed the board borders\n",
    "            if not ((position_bb & 0x0101010101010101) != 0 and (destination_bb & 0x8080808080808080) != 0) and \\\n",
    "               not ((position_bb & 0x8080808080808080) != 0 and (destination_bb & 0x0101010101010101) != 0):\n",
    "                # if the move is valid, set the corresponding bit in the bitboard\n",
    "                attack_bb |= 1 << destination\n",
    "    return attack_bb"
   ]
  },
  {
   "cell_type": "code",
   "execution_count": 34,
   "id": "d36f2ab9",
   "metadata": {},
   "outputs": [],
   "source": [
    "# create lookup table for the king\n",
    "king_table = []\n",
    "for i in range(64):\n",
    "    king_table.append(get_king_attack(i))"
   ]
  },
  {
   "cell_type": "code",
   "execution_count": 35,
   "id": "415e3309",
   "metadata": {},
   "outputs": [
    {
     "name": "stdout",
     "output_type": "stream",
     "text": [
      ". X . . . . . . \n",
      "X X . . . . . . \n",
      ". . . . . . . . \n",
      ". . . . . . . . \n",
      ". . . . . . . . \n",
      ". . . . . . . . \n",
      ". . . . . . . . \n",
      ". . . . . . . . \n"
     ]
    }
   ],
   "source": [
    "# a demonstration of the king move generation\n",
    "print_bitboard(get_king_attack(0))"
   ]
  },
  {
   "cell_type": "markdown",
   "id": "9c0b7792",
   "metadata": {},
   "source": [
    "## Queen\n",
    "\n",
    "The queen is a combination of a rook and a bishop, so its attack bitboard can be generated by a bitwise OR of both attack bitboards."
   ]
  },
  {
   "cell_type": "markdown",
   "id": "8724d81d",
   "metadata": {},
   "source": [
    "# Move generation\n",
    "Now let's create a function to evaluate a piece. It takes the gamestate as bitboards as an input and outputs a move class object\n",
    "\n",
    "perft debugging\n",
    "move generation: https://www.chessprogramming.org/Move_Generation\n",
    "\n",
    "mailbox -> bitboard\n",
    "iterate over bbs\n",
    "iterate over all bits\n",
    "bitboard -> mailbox\n",
    "\n",
    "https://www.cs.vu.nl/~wanf/theses/bijl-tiet-bscthesis.pdf\n",
    "page 8\n",
    "\n",
    "https://chess.stackexchange.com/questions/39910/how-do-chess-bitboards-generate-individual-moves \n",
    "https://stackoverflow.com/questions/72296626/chess-bitboard-move-generation \n",
    "https://www.chess.com/blog/the_real_greco/move-finding-the-engine-way "
   ]
  },
  {
   "cell_type": "code",
   "execution_count": 36,
   "id": "d79402fb-9f18-4dec-9d02-409b6538ee98",
   "metadata": {},
   "outputs": [],
   "source": [
    "def pop_lsb(bb):\n",
    "    \"\"\"\n",
    "    Returns the index, counting from 0, of the least significant set bit in a bitboard and returns the bitboard with the least significant bit removed\n",
    "    bb: bitboard of which the least significant bit is popped\n",
    "    \"\"\"\n",
    "    lsb = (bb&-bb).bit_length()-1\n",
    "    popped_bb = (bb & ~(1 << lsb))\n",
    "    return lsb, popped_bb"
   ]
  },
  {
   "cell_type": "code",
   "execution_count": 37,
   "id": "8ea30a7a",
   "metadata": {},
   "outputs": [],
   "source": [
    "from dataclasses import dataclass\n",
    "\n",
    "# dataclass that represents a move\n",
    "@dataclass()\n",
    "class Move:\n",
    "    \"\"\"\n",
    "    Class that contains information that specifies a move\n",
    "    \"\"\"\n",
    "    piece_index: int\n",
    "    from_square: int\n",
    "    to_square: int\n",
    "    promotion: int\n",
    "    en_passantable: bool\n",
    "    castling: bool"
   ]
  },
  {
   "cell_type": "code",
   "execution_count": 38,
   "id": "b342fa14",
   "metadata": {},
   "outputs": [],
   "source": [
    "def attacked(position, state, color):\n",
    "    \"\"\"\n",
    "    Return a bool that tells whether the given position is attacked in the given game state by the opposing color\n",
    "    position: an integer (0-63) that gives the position\n",
    "    state: list of game state bitboards\n",
    "    color: the color of the defending player\n",
    "    \"\"\"\n",
    "    \n",
    "    # initialize bitboard that contains all attacked positions\n",
    "    all_attacked_bb = 0\n",
    "    \n",
    "    # turn position into a bitboard\n",
    "    position_bb = 0\n",
    "    position_bb |= 1 << position\n",
    "    \n",
    "    # get opponents color\n",
    "    if color == 0:\n",
    "        oppo_color = 1\n",
    "    else:\n",
    "        oppo_color = 0\n",
    "    \n",
    "    # iterate over all state bitboards\n",
    "    for i in range(12):                                                                       ## iterate only over relevant bitboards for speedup\n",
    "        bb = state[i]\n",
    "        # get integer indexes of all pieces\n",
    "        # by finding the least significant bit\n",
    "        # returns index of least significant set bit\n",
    "        integer_positions = []\n",
    "        while bb != 0:\n",
    "            lsb, bb = pop_lsb(bb)\n",
    "            integer_positions.append(lsb)\n",
    "                \n",
    "        # iterate over all pieces\n",
    "        for ipos in integer_positions:\n",
    "            # initialize\n",
    "            attack_bb = 0\n",
    "            \n",
    "            # pawn\n",
    "            if i == (6 - 6*color):\n",
    "                # get attack bitboard\n",
    "                attack_bb = pawn_table[oppo_color][ipos]\n",
    "                \n",
    "            # rook\n",
    "            if i == (7 - 6*color):\n",
    "                occupancy_bb = get_occupancy(state)\n",
    "                rook_mask = get_rook_mask(ipos)\n",
    "                occupancy_mask = occupancy_bb & rook_mask\n",
    "                magic = rook_magics[ipos]\n",
    "                index = occupancy_mask*magic >> (64 - count_set_bits(rook_mask))\n",
    "                attack_bb = rook_tables[ipos][index]\n",
    "                \n",
    "            # knight\n",
    "            if i == (8 - 6*color):\n",
    "                attack_bb = knight_table[ipos]\n",
    "                \n",
    "            # bishop\n",
    "            if i == (9 - 6*color):\n",
    "                occupancy_bb = get_occupancy(state)\n",
    "                bishop_mask = get_bishop_mask(ipos)\n",
    "                occupancy_mask = occupancy_bb & bishop_mask\n",
    "                magic = bishop_magics[ipos]\n",
    "                index = occupancy_mask*magic >> (64 - count_set_bits(bishop_mask))\n",
    "                attack_bb = bishop_tables[ipos][index]\n",
    "                \n",
    "            # queen\n",
    "            if i == (10 - 6*color):\n",
    "                occupancy_bb = get_occupancy(state)\n",
    "                rook_mask = get_rook_mask(ipos)\n",
    "                rook_occupancy_mask = occupancy_bb & rook_mask\n",
    "                rook_magic = rook_magics[ipos]\n",
    "                rook_index = rook_occupancy_mask*rook_magic >> (64 - count_set_bits(rook_mask))        # generate nr of bits once upon startup to speedup\n",
    "                rook_attack_bb = rook_tables[ipos][rook_index]\n",
    "                bishop_mask = get_bishop_mask(ipos)\n",
    "                bishop_occupancy_mask = occupancy_bb & bishop_mask\n",
    "                bishop_magic = bishop_magics[ipos]\n",
    "                bishop_index = bishop_occupancy_mask*bishop_magic >> (64 - count_set_bits(bishop_mask))\n",
    "                bishop_attack_bb = bishop_tables[ipos][bishop_index]\n",
    "                attack_bb = rook_attack_bb | bishop_attack_bb\n",
    "                \n",
    "            # king\n",
    "            if i == (11 - 6*color):\n",
    "                attack_bb = king_table[ipos]\n",
    "                \n",
    "            # add attack_bb to the bitboard with all attacks\n",
    "            all_attacked_bb = all_attacked_bb | attack_bb\n",
    "    \n",
    "    # check if position is attacked\n",
    "    attacked = False\n",
    "    if all_attacked_bb & position_bb != 0:\n",
    "        attacked = True\n",
    "        \n",
    "    return attacked"
   ]
  },
  {
   "cell_type": "code",
   "execution_count": 39,
   "id": "883342be",
   "metadata": {},
   "outputs": [],
   "source": [
    "def move_generator(state, color):\n",
    "    \"\"\"\n",
    "    Evaluate all possible moves a piece could make and return the pseudo-legal ones\n",
    "    state: current game state, a list of 12 bitboards\n",
    "    color: the color of the piece that wants to move\n",
    "    \"\"\"\n",
    "    \n",
    "    # iterate over all bitboards\n",
    "    # iterate over all pieces\n",
    "    # generate legal moves for the piece\n",
    "    # create a new game state for the legal move\n",
    "    \n",
    "    # initialize move list\n",
    "    possible_moves = []\n",
    "    \n",
    "    # iterate over all bitboards\n",
    "    for i in range(12):                                          # only iterate over the attackers or initialize attack_bb\n",
    "        attack_bb = 0\n",
    "        bb = state[i]\n",
    "        # get integer indexes of all pieces\n",
    "        # by finding the least significant bit\n",
    "        # returns index of least significant set bit\n",
    "        integer_positions = []\n",
    "        while bb != 0:\n",
    "            lsb, bb = pop_lsb(bb)\n",
    "            integer_positions.append(lsb)\n",
    "                \n",
    "        # iterate over all pieces\n",
    "        for position in integer_positions:\n",
    "            \n",
    "            # set default promotion and en passant settings\n",
    "            promotion = False\n",
    "            en_passantable = False\n",
    "            \n",
    "            # pawn\n",
    "            # position determines if there will be promotion\n",
    "            if i == (0 + 6*color):\n",
    "                # get attack bitboard\n",
    "                potential_attack_bb = pawn_table[color][position]\n",
    "                # only keep moves that capture an opponent\n",
    "                occupancy_bb = get_occupancy(state)\n",
    "                # OR on occupance and en passant bitboard, because they don't overlap\n",
    "                filtered_attack_bb = potential_attack_bb & (occupancy_bb | state[13 - color])\n",
    "                \n",
    "                # get move bitboard\n",
    "                \n",
    "                # check if pawn is blocked\n",
    "                # determine direction through color\n",
    "                if color == 0:\n",
    "                    direction = -1\n",
    "                else:\n",
    "                    direction = 1\n",
    "                # determine location of potential blockage (shouldn't give out of range error, since a pawn can't be on the final rank)\n",
    "                blockage_position = position + 8*direction\n",
    "                # determine if pawn is blocked\n",
    "                blockage_bb = 0\n",
    "                blockage_bb |= 1 << blockage_position\n",
    "                blocked = False\n",
    "                if ((blockage_bb & occupancy_bb) != 0):\n",
    "                    blocked = True\n",
    "                \n",
    "                # no forward move if blocked\n",
    "                if blocked:\n",
    "                    move_bb = 0 \n",
    "                # check if the pawn is on the starting rank\n",
    "                elif (((48 - color*40) <= position) and (position < (56 - color*40))):\n",
    "                    # double move or not\n",
    "                    # check if pawn is blocked for double move\n",
    "                    # determine location of potential further blockage (shouldn't give out of range error, since a pawn is on the starting rank)\n",
    "                    far_blockage_position = blockage_position + 8*direction\n",
    "                    # determine if pawn is blocked\n",
    "                    far_blockage_bb = 0\n",
    "                    far_blockage_bb |= 1 << far_blockage_position\n",
    "                    if ((far_blockage_bb & occupancy_bb) != 0):\n",
    "                        move_bb = blocked_pawn_move_table[color][position]\n",
    "                    else:\n",
    "                        move_bb = unblocked_pawn_move_table[color][position]\n",
    "                        en_passantable = True\n",
    "                else:\n",
    "                    move_bb = unblocked_pawn_move_table[color][position]\n",
    "                    \n",
    "                # check for promotion\n",
    "                # check if pawn is on the one before last rank (this works, because if the pawn doesn't move, there is no move object, so the \"promotion\" bool doesn't go through)\n",
    "                if (((8 + color*40) <= position) and (position < (16 + color*40))):\n",
    "                    promotion = True    \n",
    "                \n",
    "                # get final attack_bb\n",
    "                attack_bb = filtered_attack_bb | move_bb\n",
    "                \n",
    "            # rook\n",
    "            if i == (1 + 6*color):\n",
    "                occupancy_bb = get_occupancy(state)\n",
    "                rook_mask = get_rook_mask(position)\n",
    "                occupancy_mask = occupancy_bb & rook_mask\n",
    "                magic = rook_magics[position]\n",
    "                index = occupancy_mask*magic >> (64 - count_set_bits(rook_mask))\n",
    "                attack_bb = rook_tables[position][index]\n",
    "                \n",
    "            # knight\n",
    "            if i == (2 + 6*color):\n",
    "                attack_bb = knight_table[position]\n",
    "                \n",
    "            # bishop\n",
    "            if i == (3 + 6*color):\n",
    "                occupancy_bb = get_occupancy(state)\n",
    "                bishop_mask = get_bishop_mask(position)\n",
    "                occupancy_mask = occupancy_bb & bishop_mask\n",
    "                magic = bishop_magics[position]\n",
    "                index = occupancy_mask*magic >> (64 - count_set_bits(bishop_mask))\n",
    "                attack_bb = bishop_tables[position][index]\n",
    "                \n",
    "            # queen\n",
    "            if i == (4 + 6*color):\n",
    "                occupancy_bb = get_occupancy(state)                                                  ## generate once in the beginning for speedup\n",
    "                rook_mask = get_rook_mask(position)\n",
    "                rook_occupancy_mask = occupancy_bb & rook_mask\n",
    "                rook_magic = rook_magics[position]\n",
    "                rook_index = rook_occupancy_mask*rook_magic >> (64 - count_set_bits(rook_mask))        # generate nr of bits once upon startup to speedup\n",
    "                rook_attack_bb = rook_tables[position][rook_index]\n",
    "                bishop_mask = get_bishop_mask(position)\n",
    "                bishop_occupancy_mask = occupancy_bb & bishop_mask\n",
    "                bishop_magic = bishop_magics[position]\n",
    "                bishop_index = bishop_occupancy_mask*bishop_magic >> (64 - count_set_bits(bishop_mask))\n",
    "                bishop_attack_bb = bishop_tables[position][bishop_index]\n",
    "                attack_bb = rook_attack_bb | bishop_attack_bb\n",
    "                \n",
    "            # king\n",
    "            if i == (5 + 6*color):\n",
    "                attack_bb = king_table[position]\n",
    "            \n",
    "            # filter out captures of own pieces\n",
    "            attack_bb = attack_bb & ~ get_all_color(state)[color]                    ## generate once in the beginning for speedup\n",
    "\n",
    "            # turn attack_bb into list of move objects\n",
    "            while attack_bb != 0:\n",
    "                target_location, attack_bb = pop_lsb(attack_bb)\n",
    "                if en_passantable:\n",
    "                    if abs(position - target_location) > 9:\n",
    "                        possible_moves.append(Move(i, position, target_location, i, True, False))\n",
    "                    else:\n",
    "                        possible_moves.append(Move(i, position, target_location, i, False, False))\n",
    "                elif promotion:\n",
    "                    for prom_piece in [1, 2, 3, 4]:\n",
    "                        possible_moves.append(Move(i, position, target_location, prom_piece + 6*color, False, False))\n",
    "                else:\n",
    "                    possible_moves.append(Move(i, position, target_location, i, False, False))\n",
    "                        \n",
    "    # castling\n",
    "    # long castling\n",
    "    if state[14 + 2*color]:\n",
    "        lc_masks = []\n",
    "        lc_masks.append((1 << 57) | (1 << 58) | (1 << 59))               ## generate once in the beginning for speedup there have to be two, one black one white\n",
    "        lc_masks.append((1 << 1) | (1 << 2) | (1 << 3))\n",
    "        # continue if there are no obstructions\n",
    "        if ((occupancy_bb & lc_masks[color]) == 0):\n",
    "            check_positions = [[], []]\n",
    "            check_positions[0] = [58, 59, 60]\n",
    "            check_positions[1] = [2, 3, 4]                                      ## generate once in the beginning for speedup\n",
    "            in_check = False\n",
    "            for check_pos in check_positions[color]:\n",
    "                if attacked(check_pos, state, color):\n",
    "                    in_check = True\n",
    "            # long castling\n",
    "            if not in_check:\n",
    "                possible_moves.append(Move(5 + 6*color, 56 - 56*color, 59 - 56*color, False, False, True))       ## castling bool is set, position is used to see which castling it is\n",
    "                    \n",
    "    # short castling\n",
    "    if state[15 + 2*color]:\n",
    "        sc_masks = []\n",
    "        sc_masks.append((1 << 61) | (1 << 62))                            ## generate once in the beginning for speedup there have to be two, one black one white\n",
    "        sc_masks.append((1 << 5) | (1 << 6))\n",
    "        # continue if there are no obstructions\n",
    "        if ((occupancy_bb & sc_masks[color]) == 0):\n",
    "            check_positions = [[], []]\n",
    "            check_positions[0] = [60, 61, 62]\n",
    "            check_positions[1] = [4, 5, 6]                                      ## generate once in the beginning for speedup\n",
    "            in_check = False\n",
    "            for check_pos in check_positions[color]:\n",
    "                if attacked(check_pos, state, color):\n",
    "                    in_check = True\n",
    "            # short castling\n",
    "            if not in_check:\n",
    "                possible_moves.append(Move(5 + 6*color, 63 - 56*color, 61 - 56*color, False, False, True))       ## castling bool is set, position is used to see which castling it is\n",
    "            \n",
    "    return possible_moves"
   ]
  },
  {
   "cell_type": "code",
   "execution_count": 40,
   "id": "5d3b9b11",
   "metadata": {
    "scrolled": true
   },
   "outputs": [
    {
     "name": "stdout",
     "output_type": "stream",
     "text": [
      "[Move(piece_index=0, from_square=48, to_square=32, promotion=0, en_passantable=True, castling=False), Move(piece_index=0, from_square=48, to_square=40, promotion=0, en_passantable=False, castling=False), Move(piece_index=0, from_square=49, to_square=33, promotion=0, en_passantable=True, castling=False), Move(piece_index=0, from_square=49, to_square=41, promotion=0, en_passantable=False, castling=False), Move(piece_index=0, from_square=50, to_square=34, promotion=0, en_passantable=True, castling=False), Move(piece_index=0, from_square=50, to_square=42, promotion=0, en_passantable=False, castling=False), Move(piece_index=0, from_square=51, to_square=35, promotion=0, en_passantable=True, castling=False), Move(piece_index=0, from_square=51, to_square=43, promotion=0, en_passantable=False, castling=False), Move(piece_index=0, from_square=52, to_square=36, promotion=0, en_passantable=True, castling=False), Move(piece_index=0, from_square=52, to_square=44, promotion=0, en_passantable=False, castling=False), Move(piece_index=0, from_square=53, to_square=37, promotion=0, en_passantable=True, castling=False), Move(piece_index=0, from_square=53, to_square=45, promotion=0, en_passantable=False, castling=False), Move(piece_index=0, from_square=54, to_square=38, promotion=0, en_passantable=True, castling=False), Move(piece_index=0, from_square=54, to_square=46, promotion=0, en_passantable=False, castling=False), Move(piece_index=0, from_square=55, to_square=39, promotion=0, en_passantable=True, castling=False), Move(piece_index=0, from_square=55, to_square=47, promotion=0, en_passantable=False, castling=False), Move(piece_index=2, from_square=57, to_square=40, promotion=2, en_passantable=False, castling=False), Move(piece_index=2, from_square=57, to_square=42, promotion=2, en_passantable=False, castling=False), Move(piece_index=2, from_square=62, to_square=45, promotion=2, en_passantable=False, castling=False), Move(piece_index=2, from_square=62, to_square=47, promotion=2, en_passantable=False, castling=False)]\n",
      "20\n"
     ]
    }
   ],
   "source": [
    "moves = move_generator(initial_game_state, 0)\n",
    "print(moves)\n",
    "print(len(moves))"
   ]
  },
  {
   "cell_type": "code",
   "execution_count": 41,
   "id": "13c54609-3ce1-474b-9e65-4c93c02321a1",
   "metadata": {},
   "outputs": [
    {
     "name": "stdout",
     "output_type": "stream",
     "text": [
      ". . . . . . . . \n",
      ". . . . . . . . \n",
      ". . . . . . . . \n",
      ". . . . . . . . \n",
      ". . . . . . . . \n",
      ". . . . . . . . \n",
      ". . . . . . . . \n",
      ". . . X . . . . \n"
     ]
    }
   ],
   "source": [
    "print_bitboard(1 << 59)"
   ]
  },
  {
   "cell_type": "code",
   "execution_count": 42,
   "id": "be4369ee-dbdd-44f2-9128-24012d790c45",
   "metadata": {},
   "outputs": [],
   "source": [
    "import copy\n",
    "\n",
    "def apply_move(state, move):\n",
    "    \"\"\"\n",
    "    Apply a move object to a gamestate bitboard\n",
    "    state: current game state, a list of 12 bitboards\n",
    "    move: the move object that is applied to the state\n",
    "    \"\"\"\n",
    "    \n",
    "    # initialize\n",
    "    next_state = copy.deepcopy(state)\n",
    "    \n",
    "    # update castling rights\n",
    "    # white king\n",
    "    if move.piece_index == 5:\n",
    "        next_state[14] = False\n",
    "        next_state[15] = False\n",
    "    # black king\n",
    "    if move.piece_index == 11:\n",
    "        next_state[16] = False\n",
    "        next_state[17] = False\n",
    "    # white rook:\n",
    "    if ((move.piece_index == 1) & (move.from_square == 56)):\n",
    "        next_state[14] = False\n",
    "    if ((move.piece_index == 1) & (move.from_square == 63)):\n",
    "        next_state[15] = False\n",
    "    #######\n",
    "    if move.to_square == 56:\n",
    "        next_state[14] = False\n",
    "    if move.to_square == 63:\n",
    "        next_state[15] = False\n",
    "    ############\n",
    "    # black rook:\n",
    "    if ((move.piece_index == 7) & (move.from_square == 0)):\n",
    "        next_state[16] = False\n",
    "    if ((move.piece_index == 7) & (move.from_square == 7)):\n",
    "        next_state[17] = False\n",
    "    ###################\n",
    "    if move.to_square == 0:\n",
    "        next_state[16] = False\n",
    "    if move.to_square == 7:\n",
    "        next_state[17] = False\n",
    "    #################\n",
    "    \n",
    "    # castling\n",
    "    if move.castling:\n",
    "        # white long castling\n",
    "        if move.from_square == 56:\n",
    "            # update king bitboard\n",
    "            next_state[5] = 1 << 58\n",
    "            # update rook bitboard\n",
    "            \n",
    "            remove_mask = 1 << move.from_square\n",
    "            add_mask = 1 << 59\n",
    "            # XOR to remove the piece\n",
    "            next_state[1] = next_state[1] ^ remove_mask\n",
    "            # AND to add the piece\n",
    "            next_state[1] = next_state[1] | add_mask\n",
    "            \n",
    "        # black long castling\n",
    "        elif move.from_square == 0:\n",
    "            # update king bitboard\n",
    "            next_state[11] = 1 << 2\n",
    "            # update rook bitboard\n",
    "            \n",
    "            remove_mask = 1 << move.from_square\n",
    "            add_mask = 1 << 3\n",
    "            # XOR to remove the piece\n",
    "            next_state[7] = next_state[7] ^ remove_mask\n",
    "            # AND to add the piece\n",
    "            next_state[7] = next_state[7] | add_mask\n",
    "            \n",
    "        # white short castling\n",
    "        elif move.from_square == 63:\n",
    "            # update king bitboard\n",
    "            next_state[5] = 1 << 62\n",
    "            # update rook bitboard\n",
    "            \n",
    "            remove_mask = 1 << move.from_square\n",
    "            add_mask = 1 << 61\n",
    "            # XOR to remove the piece\n",
    "            next_state[1] = next_state[1] ^ remove_mask\n",
    "            # AND to add the piece\n",
    "            next_state[1] = next_state[1] | add_mask\n",
    "            \n",
    "        # black short castling\n",
    "        elif move.from_square == 7:\n",
    "            # update king bitboard\n",
    "            next_state[11] = 1 << 6\n",
    "            # update rook bitboard\n",
    "            \n",
    "            remove_mask = 1 << move.from_square\n",
    "            add_mask = 1 << 5\n",
    "            # XOR to remove the piece\n",
    "            next_state[7] = next_state[7] ^ remove_mask\n",
    "            # AND to add the piece\n",
    "            next_state[7] = next_state[7] | add_mask\n",
    "            \n",
    "    # normal move\n",
    "    else:\n",
    "        remove_mask = 1 << move.from_square\n",
    "        add_mask = 1 << move.to_square\n",
    "        # XOR to remove the piece\n",
    "        next_state[move.piece_index] = next_state[move.piece_index] ^ remove_mask\n",
    "        \n",
    "        # AND to add the piece\n",
    "        next_state[move.promotion] = next_state[move.promotion] | add_mask\n",
    "        \n",
    "        # remove opponents piece\n",
    "        # check if an opponent piece has been captured\n",
    "        # get opponent bbs\n",
    "        if move.piece_index < 6:\n",
    "            opponent_pieces = [6, 7, 8, 9, 10, 11]\n",
    "            en_passant_index = 13\n",
    "        else:\n",
    "            opponent_pieces = [0, 1, 2, 3, 4, 5]\n",
    "            en_passant_index = 12\n",
    "            \n",
    "        target_bb = 1 << move.to_square\n",
    "        for opponent_piece in opponent_pieces:\n",
    "            next_state[opponent_piece] = next_state[opponent_piece] & ~(next_state[opponent_piece] & target_bb) \n",
    "\n",
    "        # en passant removal of pieces\n",
    "        # only possible for a pawn\n",
    "        if ((move.piece_index == 0) | (move.piece_index == 6)):\n",
    "            if target_bb == next_state[en_passant_index]:\n",
    "                en_passant_mask = 1 << (move.to_square - 8 - 16*(12-en_passant_index))\n",
    "                # remove en passanted pawn\n",
    "                next_state[-6*(12 - en_passant_index)] = next_state[-6*(12 - en_passant_index)] ^ en_passant_mask\n",
    "        \n",
    "    # create new en passant bb\n",
    "    if move.en_passantable:\n",
    "        # add to en_passant bb\n",
    "        # white\n",
    "        if move.from_square > 32:\n",
    "            next_state[12] = 1 << move.to_square + 8\n",
    "        # black\n",
    "        else:\n",
    "            next_state[13] = 1 << move.to_square - 8\n",
    "    else:\n",
    "        next_state[12] = 0\n",
    "        next_state[13] = 0\n",
    "            \n",
    "    return next_state"
   ]
  },
  {
   "cell_type": "code",
   "execution_count": 43,
   "id": "a9497f8f-2beb-4273-93f3-0852b259f513",
   "metadata": {},
   "outputs": [
    {
     "name": "stdout",
     "output_type": "stream",
     "text": [
      ". . . . . . . . \n",
      ". . . . . . . . \n",
      ". . . . . . . . \n",
      ". . . . . . . . \n",
      ". . . . . . . . \n",
      ". . . . . . . . \n",
      "X X X X X X X X \n",
      ". . . . . . . . \n",
      ". . . . . . . . \n",
      ". . . . . . . . \n",
      ". . . . . . . . \n",
      ". . . . . . . . \n",
      "X . . . . . . . \n",
      ". . . . . . . . \n",
      ". X X X X X X X \n",
      ". . . . . . . . \n",
      ". . . . . . . . \n",
      ". . . . . . . . \n",
      ". . . . . . . . \n",
      ". . . . . . . . \n",
      ". . . . . . . . \n",
      "X . . . . . . . \n",
      ". . . . . . . . \n",
      ". . . . . . . . \n"
     ]
    }
   ],
   "source": [
    "print_bitboard(initial_game_state[0])\n",
    "\n",
    "next_bb = apply_move(initial_game_state, moves[0])\n",
    "print_bitboard(next_bb[0])\n",
    "print_bitboard(next_bb[12])"
   ]
  },
  {
   "cell_type": "code",
   "execution_count": 44,
   "id": "e596076e-253b-4396-8f7f-4fe54708c3f9",
   "metadata": {
    "tags": []
   },
   "outputs": [],
   "source": [
    "def check_checker(state, color):\n",
    "    \"\"\"\n",
    "    Function that checks if the player is in check\n",
    "    state: list of game state bitboards\n",
    "    color: the color of the current player\n",
    "    \"\"\"\n",
    "    \n",
    "    # get the king\n",
    "    if color == 0:\n",
    "        king_index = 5\n",
    "    else:\n",
    "        king_index = 11\n",
    "    king_pos, _ = pop_lsb(state[king_index])\n",
    "      \n",
    "    # run attacked on this position\n",
    "    check = attacked(king_pos, state, color)\n",
    "    \n",
    "    return (check)"
   ]
  },
  {
   "cell_type": "code",
   "execution_count": 45,
   "id": "715fb169-471a-476b-be3e-a6730e37869a",
   "metadata": {},
   "outputs": [
    {
     "name": "stdout",
     "output_type": "stream",
     "text": [
      "False\n"
     ]
    }
   ],
   "source": [
    "print(check_checker(initial_game_state, 1))"
   ]
  },
  {
   "cell_type": "code",
   "execution_count": 46,
   "id": "693fc2b8-3b98-4eb4-b193-3c2a57294d29",
   "metadata": {},
   "outputs": [],
   "source": [
    "def pseudo_to_legal(pseudo_legal_moves, state, color):\n",
    "    \"\"\"\n",
    "    Evaluate all pseudo-legal moves and return the legal ones. \n",
    "    pseudo_legal_moves: list of all pseudo-legal moves\n",
    "    state: list of game state bitboards\n",
    "    color: the color of the current player\n",
    "    \"\"\"\n",
    "    \n",
    "    legal_moves = []\n",
    "    \n",
    "    for plm in pseudo_legal_moves:\n",
    "        # turn into bitboard\n",
    "        plmb = apply_move(state, plm)\n",
    "        if not check_checker(plmb, color):\n",
    "            legal_moves.append(plmb)\n",
    "            \n",
    "    return legal_moves"
   ]
  },
  {
   "cell_type": "markdown",
   "id": "c8d1ed51-d74e-41dc-9409-560f8acaa5ee",
   "metadata": {},
   "source": [
    "#### Move generation demonstration"
   ]
  },
  {
   "cell_type": "code",
   "execution_count": 47,
   "id": "414ea6df-ed50-4edb-9fd7-4bf603ab2530",
   "metadata": {},
   "outputs": [
    {
     "name": "stdout",
     "output_type": "stream",
     "text": [
      "20\n"
     ]
    }
   ],
   "source": [
    "game_state = initial_game_state\n",
    "color = 0\n",
    "\n",
    "# generate pseudo-legal moves\n",
    "plms = move_generator(game_state, color)\n",
    "# turn pseudo-legal moves into legal moves\n",
    "lms = pseudo_to_legal(plms, game_state, color)\n",
    "print(len(lms))"
   ]
  },
  {
   "cell_type": "markdown",
   "id": "e4a6b334-fad5-44c1-8523-6230fc02fa4d",
   "metadata": {},
   "source": [
    "## Visualize board"
   ]
  },
  {
   "cell_type": "code",
   "execution_count": 48,
   "id": "30ebeaf9-ec0c-49e0-ac05-e1c2486f6406",
   "metadata": {},
   "outputs": [],
   "source": [
    "from PIL import Image, ImageDraw\n",
    "import io\n",
    "from wand.image import Image as WandImage\n",
    "import matplotlib.pyplot as plt\n",
    "\n",
    "def svg_to_png(svg_path):\n",
    "    with WandImage(filename=svg_path) as img:\n",
    "        img.format = 'png'\n",
    "        png_bytes = img.make_blob()\n",
    "        return Image.open(io.BytesIO(png_bytes))\n",
    "\n",
    "ap = './assets/pieces/'\n",
    "\n",
    "piece_images = {\n",
    "    'wP': svg_to_png(ap + 'white_pawn.svg'), 'wR': svg_to_png(ap + 'white_rook.svg'), 'wN': svg_to_png(ap + 'white_knight.svg'),\n",
    "    'wB': svg_to_png(ap + 'white_bishop.svg'), 'wQ': svg_to_png(ap + 'white_queen.svg'), 'wK': svg_to_png(ap + 'white_king.svg'),\n",
    "    'bP': svg_to_png(ap + 'black_pawn.svg'), 'bR': svg_to_png(ap + 'black_rook.svg'), 'bN': svg_to_png(ap + 'black_knight.svg'),\n",
    "    'bB': svg_to_png(ap + 'black_bishop.svg'), 'bQ': svg_to_png(ap + 'black_queen.svg'), 'bK': svg_to_png(ap + 'black_king.svg')\n",
    "}\n",
    "\n",
    "def create_chessboard():\n",
    "    square_size = 64\n",
    "    board_size = 8 * square_size\n",
    "    board = Image.new('RGB', (board_size, board_size))\n",
    "    draw = ImageDraw.Draw(board)\n",
    "    colors = [(255, 206, 158), (209, 139, 71)]\n",
    "    \n",
    "    for row in range(8):\n",
    "        for col in range(8):\n",
    "            color = colors[(row + col) % 2]\n",
    "            draw.rectangle([col*square_size, row*square_size, (col+1)*square_size, (row+1)*square_size], fill=color)\n",
    "    \n",
    "    return board\n",
    "\n",
    "def ensure_alpha(image):\n",
    "    if image.mode != 'RGBA':\n",
    "        return image.convert('RGBA')\n",
    "    return image\n",
    "\n",
    "def place_pieces(board, bitboards, piece_keys):\n",
    "    square_size = 64\n",
    "    for bitboard, piece_key in zip(bitboards, piece_keys):\n",
    "        piece_img = ensure_alpha(piece_images[piece_key])\n",
    "        for i in range(64):\n",
    "            if bitboard & (1 << i): #bitboard with set bit on position 64\n",
    "                row, col = divmod(i, 8)\n",
    "                position = (col * square_size, (row) * square_size)\n",
    "                board.paste(piece_img, position, piece_img)\n",
    "    return board\n",
    "\n",
    "def visualize_chessboard(board):\n",
    "    plt.imshow(board)\n",
    "    plt.axis('off')\n",
    "    plt.show()\n",
    "    \n",
    "def print_board(game_state):\n",
    "    bitboards = game_state[0:12]\n",
    "    piece_keys = ['wP', 'wR', 'wN', 'wB', 'wQ', 'wK', 'bP', 'bR', 'bN', 'bB', 'bQ', 'bK']\n",
    "\n",
    "    chessboard = create_chessboard()\n",
    "    chessboard_with_pieces = place_pieces(chessboard, bitboards, piece_keys)\n",
    "    visualize_chessboard(chessboard_with_pieces)\n"
   ]
  },
  {
   "cell_type": "code",
   "execution_count": 49,
   "id": "b5662d57-4f20-4e7b-8cf3-5b0484e306cd",
   "metadata": {},
   "outputs": [
    {
     "data": {
      "image/png": "[encoded data removed]",
      "text/plain": [
       "<Figure size 432x288 with 1 Axes>"
      ]
     },
     "metadata": {
      "needs_background": "light"
     },
     "output_type": "display_data"
    }
   ],
   "source": [
    "print_board(initial_game_state)"
   ]
  },
  {
   "cell_type": "markdown",
   "id": "bb576549-8745-442d-8d2e-833da773a2ca",
   "metadata": {},
   "source": [
    "## PERFT\n",
    "\n",
    "https://www.chessprogramming.org/Perft_Results#Initial_Position"
   ]
  },
  {
   "cell_type": "code",
   "execution_count": 54,
   "id": "e9ad0a13-e839-4f60-a509-dbfddb6e291b",
   "metadata": {},
   "outputs": [],
   "source": [
    "def perft(game_state, depth, color):\n",
    "    \"\"\"\n",
    "    state: list of game state bitboards\n",
    "    depth: amount of moves that will be calculated\n",
    "    color: starting color\n",
    "    \"\"\"\n",
    "    \n",
    "    # generate pseudo-legal moves\n",
    "    plms = move_generator(game_state, color)\n",
    "    \n",
    "    # turn pseudo-legal moves into legal moves\n",
    "    lms = pseudo_to_legal(plms, game_state, color)\n",
    "    print(\"depth: 1, moves: \" + str(len(lms)))\n",
    "    \n",
    "    if color == 0:\n",
    "        oppo_color = 1\n",
    "    else:\n",
    "        oppo_color = 0\n",
    "        \n",
    "    captures = 0\n",
    "    checks = 0\n",
    "    castlings = 0\n",
    "                \n",
    "    for s in lms:\n",
    "        # check for captures\n",
    "        if bin(get_occupancy(s)).count(\"1\") != bin(get_occupancy(game_state)).count(\"1\"):\n",
    "            captures += 1\n",
    "        # check for checks\n",
    "        if check_checker(s, oppo_color):\n",
    "            checks += 1\n",
    "        if ((s[1] != game_state[1]) & (s[5] != game_state[5])):\n",
    "            castlings += 1\n",
    "        #print_board(s)\n",
    " \n",
    "        \n",
    "    print(\"captures: \" + str(captures))\n",
    "    print(\"checks: \" + str(checks))\n",
    "    print(\"castlings: \" + str(castlings))\n",
    "    print(\"---------------------------\")\n",
    "    ###########################\n",
    "    \n",
    "    # iterate for desired depth\n",
    "    for i in range(depth - 1):\n",
    "        # switch color\n",
    "        if color == 0:\n",
    "            color = 1\n",
    "        else:\n",
    "            color = 0\n",
    "            \n",
    "        #################\n",
    "        captures = 0\n",
    "        checks = 0\n",
    "        mate  = 0\n",
    "        castling = 0\n",
    "        c0 = 0\n",
    "        c1 = 0\n",
    "        c2 = 0\n",
    "        ##################\n",
    "                \n",
    "        # iterate over all states\n",
    "        new_lms = []\n",
    "        \n",
    "        for state in lms: \n",
    "            # calculate new states\n",
    "            #print(state)\n",
    "            plms = move_generator(state, color)\n",
    "            part_lms = pseudo_to_legal(plms, state, color)\n",
    "            \n",
    "            cast = 0\n",
    "            \n",
    "            ###########################\n",
    "            if color == 0:\n",
    "                oppo_color = 1\n",
    "            else:\n",
    "                oppo_color = 0\n",
    "                \n",
    "            if len(part_lms) == 0:\n",
    "                #print(\"checkmate\")\n",
    "                mate += 1\n",
    "                \n",
    "            for s in part_lms:\n",
    "                c = False\n",
    "                # check for captures\n",
    "                if bin(get_occupancy(s)).count(\"1\") < bin(get_occupancy(state)).count(\"1\"):\n",
    "                    captures += 1\n",
    "                    c = True\n",
    "                if bin(get_occupancy(s)).count(\"1\") > bin(get_occupancy(state)).count(\"1\"):\n",
    "                    #increase += 1\n",
    "                    print(\"increase\")\n",
    "                    print_board(s)\n",
    "                # check for checks\n",
    "                if check_checker(s, oppo_color):\n",
    "                    checks += 1\n",
    "                # check for castling\n",
    "                if ((s[1 + color*6] != state[1 + color*6]) & (s[5 + color*6] != state[5 + color*6])):\n",
    "                    castling += 1\n",
    "                    cast += 1\n",
    "                    if c:\n",
    "                        print(\"capturing whilst castling\")\n",
    "                        print_board(state)\n",
    "                        print_board(s)\n",
    "                \n",
    "            if cast == 0:\n",
    "                c0 += 1\n",
    "            elif cast == 1:\n",
    "                c1 += 1\n",
    "            elif cast == 2:\n",
    "                c2 += 1\n",
    "            \n",
    "            new_lms += part_lms\n",
    "        lms = new_lms\n",
    "            \n",
    "        print(\"depth: \" + str(i + 2) + \", moves: \" + str(len(lms)))\n",
    "        print(\"captures: \" + str(captures))\n",
    "        print(\"checks: \" + str(checks))\n",
    "        print(\"mates: \" + str(mate))\n",
    "        print(\"castling: \" + str(castling))\n",
    "        print(\"-------------------------\")\n"
   ]
  },
  {
   "cell_type": "code",
   "execution_count": 57,
   "id": "5f806435-5a9e-47b8-bb3c-49fa5159133a",
   "metadata": {},
   "outputs": [
    {
     "data": {
      "image/png": "[encoded data removed]",
      "text/plain": [
       "<Figure size 432x288 with 1 Axes>"
      ]
     },
     "metadata": {
      "needs_background": "light"
     },
     "output_type": "display_data"
    }
   ],
   "source": [
    "#kiwipete\n",
    "white_pawn = int('0000000011100111000000000001000000001000000000000000000000000000', 2)\n",
    "white_rook = int('1000000100000000000000000000000000000000000000000000000000000000', 2)\n",
    "white_knight = int('0000000000000000000001000000000000010000000000000000000000000000', 2)\n",
    "white_bishop = int('0000000000011000000000000000000000000000000000000000000000000000', 2)\n",
    "white_queen = int('0000000000000000001000000000000000000000000000000000000000000000', 2)\n",
    "white_king = int('0001000000000000000000000000000000000000000000000000000000000000', 2)\n",
    "\n",
    "# black\n",
    "black_pawn = int('0000000000000000100000000000001000000000010100000010110100000000', 2)\n",
    "black_rook = int('0000000000000000000000000000000000000000000000000000000010000001', 2)\n",
    "black_knight = int('0000000000000000000000000000000000000000001000100000000000000000', 2)\n",
    "black_bishop = int('0000000000000000000000000000000000000000000000010100000000000000', 2)\n",
    "black_queen = int('0000000000000000000000000000000000000000000000000001000000000000', 2)\n",
    "black_king = int('0000000000000000000000000000000000000000000000000000000000010000', 2)\n",
    "\n",
    "# en passant\n",
    "white_en_passant = 0\n",
    "black_en_passant = 0\n",
    "\n",
    "# castling_rights\n",
    "white_long_castle = True\n",
    "white_short_castle = True\n",
    "black_long_castle = True\n",
    "black_short_castle = True\n",
    "\n",
    "kiwipete = [white_pawn, white_rook, white_knight, white_bishop, white_queen, white_king, black_pawn, black_rook, black_knight, black_bishop, black_queen, black_king, white_en_passant, black_en_passant, white_long_castle, white_short_castle, black_long_castle, black_short_castle]\n",
    "\n",
    "print_board(kiwipete)"
   ]
  },
  {
   "cell_type": "code",
   "execution_count": 107,
   "id": "d738bba5-f8b8-422a-887b-5dff9eb455fc",
   "metadata": {},
   "outputs": [
    {
     "data": {
      "image/png": "[encoded data removed]",
      "text/plain": [
       "<Figure size 432x288 with 1 Axes>"
      ]
     },
     "metadata": {
      "needs_background": "light"
     },
     "output_type": "display_data"
    }
   ],
   "source": [
    "#position 3\n",
    "white_pawn = int('0000000001010000000000000000000000000010000000000000000000000000', 2)\n",
    "white_rook = int('0000000000000000000000000000001000000000000000000000000000000000', 2)\n",
    "white_knight = int('0000000000000000000000000000000000000000000000000000000000000000', 2)\n",
    "white_bishop = int('0000000000000000000000000000000000000000000000000000000000000000', 2)\n",
    "white_queen = int('0000000000000000000000000000000000000000000000000000000000000000', 2)\n",
    "white_king = int('0000000000000000000000000000000000000001000000000000000000000000', 2)\n",
    "\n",
    "# black\n",
    "black_pawn = int('0000000000000000000000000010000000000000000010000000010000000000', 2)\n",
    "black_rook = int('0000000000000000000000000000000010000000000000000000000000000000', 2)\n",
    "black_knight = int('0000000000000000000000000000000000000000000000000000000000000000', 2)\n",
    "black_bishop = int('0000000000000000000000000000000000000000000000000000000000000000', 2)\n",
    "black_queen = int('0000000000000000000000000000000000000000000000000000000000000000', 2)\n",
    "black_king = int('0000000000000000000000001000000000000000000000000000000000000000', 2)\n",
    "\n",
    "# en passant\n",
    "white_en_passant = 0\n",
    "black_en_passant = 0\n",
    "\n",
    "# castling_rights\n",
    "white_long_castle = False\n",
    "white_short_castle = False\n",
    "black_long_castle = False\n",
    "black_short_castle = False\n",
    "\n",
    "p3 = [white_pawn, white_rook, white_knight, white_bishop, white_queen, white_king, black_pawn, black_rook, black_knight, black_bishop, black_queen, black_king, white_en_passant, black_en_passant, white_long_castle, white_short_castle, black_long_castle, black_short_castle]\n",
    "\n",
    "print_board(p3)"
   ]
  },
  {
   "cell_type": "code",
   "execution_count": 106,
   "id": "bb9c4354-7334-4b9b-b027-729a8ab514fa",
   "metadata": {},
   "outputs": [
    {
     "data": {
      "image/png": "[encoded data removed]",
      "text/plain": [
       "<Figure size 432x288 with 1 Axes>"
      ]
     },
     "metadata": {
      "needs_background": "light"
     },
     "output_type": "display_data"
    }
   ],
   "source": [
    "# position 4\n",
    "# white\n",
    "white_pawn = int('0000000011001001000000000001010000000010000000000000000100000000', 2)\n",
    "white_rook = int('0010000100000000000000000000000000000000000000000000000000000000', 2)\n",
    "white_knight = int('0000000000000000001000000000000000000000100000000000000000000000', 2)\n",
    "white_bishop = int('0000000000000000000000000000001100000000000000000000000000000000', 2)\n",
    "white_queen = int('0000100000000000000000000000000000000000000000000000000000000000', 2)\n",
    "white_king = int('0100000000000000000000000000000000000000000000000000000000000000', 2)\n",
    "\n",
    "# black\n",
    "black_pawn = int('0000000000000010000000000000000000000000000000001110111000000000', 2)\n",
    "black_rook = int('0000000000000000000000000000000000000000000000000000000010000001', 2)\n",
    "black_knight = int('0000000000000000000000000000000000000001001000000000000000000000', 2)\n",
    "black_bishop = int('0000000000000000000000000000000000000000010000100000000000000000', 2)\n",
    "black_queen = int('0000000000000000000000010000000000000000000000000000000000000000', 2)\n",
    "black_king = int('0000000000000000000000000000000000000000000000000000000000010000', 2)\n",
    "\n",
    "# en passant\n",
    "white_en_passant = 0\n",
    "black_en_passant = 0\n",
    "\n",
    "# castling_rights\n",
    "white_long_castle = False\n",
    "white_short_castle = False\n",
    "black_long_castle = True\n",
    "black_short_castle = True\n",
    "\n",
    "p4 = [white_pawn, white_rook, white_knight, white_bishop, white_queen, white_king, black_pawn, black_rook, black_knight, black_bishop, black_queen, black_king, white_en_passant, black_en_passant, white_long_castle, white_short_castle, black_long_castle, black_short_castle]\n",
    "\n",
    "print_board(p4)"
   ]
  },
  {
   "cell_type": "code",
   "execution_count": 105,
   "id": "1fefe5c2-8e3e-4386-ad12-fadc75b54c34",
   "metadata": {},
   "outputs": [
    {
     "data": {
      "image/png": "[encoded data removed]",
      "text/plain": [
       "<Figure size 432x288 with 1 Axes>"
      ]
     },
     "metadata": {
      "needs_background": "light"
     },
     "output_type": "display_data"
    }
   ],
   "source": [
    "# position 5\n",
    "# white\n",
    "white_pawn = int('0000000011000111000000000000000000000000000000000000100000000000', 2)\n",
    "white_rook = int('1000000100000000000000000000000000000000000000000000000000000000', 2)\n",
    "white_knight = int('0000001000010000000000000000000000000000000000000000000000000000', 2)\n",
    "white_bishop = int('0000010000000000000000000000010000000000000000000000000000000000', 2)\n",
    "white_queen = int('0000100000000000000000000000000000000000000000000000000000000000', 2)\n",
    "white_king = int('0001000000000000000000000000000000000000000000000000000000000000', 2)\n",
    "\n",
    "# black\n",
    "black_pawn = int('0000000000000000000000000000000000000000000001001110001100000000', 2)\n",
    "black_rook = int('0000000000000000000000000000000000000000000000000000000010000001', 2)\n",
    "black_knight = int('0000000000100000000000000000000000000000000000000000000000000010', 2)\n",
    "black_bishop = int('0000000000000000000000000000000000000000000000000001000000000100', 2)\n",
    "black_queen = int('0000000000000000000000000000000000000000000000000000000000001000', 2)\n",
    "black_king = int('0000000000000000000000000000000000000000000000000000000000100000', 2)\n",
    "\n",
    "# en passant\n",
    "white_en_passant = 0\n",
    "black_en_passant = 0\n",
    "\n",
    "# castling_rights\n",
    "white_long_castle = True\n",
    "white_short_castle = True\n",
    "black_long_castle = False\n",
    "black_short_castle = False\n",
    "\n",
    "p5 = [white_pawn, white_rook, white_knight, white_bishop, white_queen, white_king, black_pawn, black_rook, black_knight, black_bishop, black_queen, black_king, white_en_passant, black_en_passant, white_long_castle, white_short_castle, black_long_castle, black_short_castle]\n",
    "\n",
    "print_board(p5)"
   ]
  },
  {
   "cell_type": "code",
   "execution_count": 104,
   "id": "6966b4bf-e89e-4d51-837c-585eca46e21b",
   "metadata": {},
   "outputs": [
    {
     "data": {
      "image/png": "[encoded data removed]",
      "text/plain": [
       "<Figure size 432x288 with 1 Axes>"
      ]
     },
     "metadata": {
      "needs_background": "light"
     },
     "output_type": "display_data"
    }
   ],
   "source": [
    "# position 6\n",
    "# white\n",
    "white_pawn = int('0000000011100110000010010001000000000000000000000000000000000000', 2)\n",
    "white_rook = int('0010000100000000000000000000000000000000000000000000000000000000', 2)\n",
    "white_knight = int('0000000000000000001001000000000000000000000000000000000000000000', 2)\n",
    "white_bishop = int('0000000000000000000000000000010001000000000000000000000000000000', 2)\n",
    "white_queen = int('0000000000010000000000000000000000000000000000000000000000000000', 2)\n",
    "white_king = int('0100000000000000000000000000000000000000000000000000000000000000', 2)\n",
    "\n",
    "# black\n",
    "black_pawn = int('0000000000000000000000000000000000010000000010011110011000000000', 2)\n",
    "black_rook = int('0000000000000000000000000000000000000000000000000000000000100001', 2)\n",
    "black_knight = int('0000000000000000000000000000000000000000001001000000000000000000', 2)\n",
    "black_bishop = int('0000000000000000000000000100000000000100000000000000000000000000', 2)\n",
    "black_queen = int('0000000000000000000000000000000000000000000000000001000000000000', 2)\n",
    "black_king = int('0000000000000000000000000000000000000000000000000000000001000000', 2)\n",
    "\n",
    "# en passant\n",
    "white_en_passant = 0\n",
    "black_en_passant = 0\n",
    "\n",
    "# castling_rights\n",
    "white_long_castle = False\n",
    "white_short_castle = False\n",
    "black_long_castle = False\n",
    "black_short_castle = False\n",
    "\n",
    "p6 = [white_pawn, white_rook, white_knight, white_bishop, white_queen, white_king, black_pawn, black_rook, black_knight, black_bishop, black_queen, black_king, white_en_passant, black_en_passant, white_long_castle, white_short_castle, black_long_castle, black_short_castle]\n",
    "\n",
    "print_board(p6)"
   ]
  },
  {
   "cell_type": "markdown",
   "id": "fbf212d4-97e2-413c-be6b-92e33415e9b4",
   "metadata": {},
   "source": [
    "## Perft checking"
   ]
  },
  {
   "cell_type": "code",
   "execution_count": 112,
   "id": "18cfeb1b-4344-4a90-b421-29a146e44662",
   "metadata": {},
   "outputs": [
    {
     "name": "stdout",
     "output_type": "stream",
     "text": [
      "depth: 1, moves: 20\n",
      "captures: 0\n",
      "checks: 0\n",
      "castlings: 0\n",
      "---------------------------\n",
      "depth: 2, moves: 400\n",
      "captures: 0\n",
      "checks: 0\n",
      "mates: 0\n",
      "castling: 0\n",
      "-------------------------\n",
      "depth: 3, moves: 8902\n",
      "captures: 34\n",
      "checks: 12\n",
      "mates: 0\n",
      "castling: 0\n",
      "-------------------------\n",
      "depth: 4, moves: 197281\n",
      "captures: 1576\n",
      "checks: 469\n",
      "mates: 0\n",
      "castling: 0\n",
      "-------------------------\n",
      "depth: 5, moves: 4865609\n",
      "captures: 82719\n",
      "checks: 27351\n",
      "mates: 8\n",
      "castling: 0\n",
      "-------------------------\n"
     ]
    }
   ],
   "source": [
    "perft(initial_game_state, 5, 0)"
   ]
  },
  {
   "cell_type": "code",
   "execution_count": 102,
   "id": "241ea60d-ed36-49cb-beb8-d4f8cffb7d30",
   "metadata": {},
   "outputs": [
    {
     "name": "stdout",
     "output_type": "stream",
     "text": [
      "depth: 1, moves: 48\n",
      "captures: 8\n",
      "checks: 0\n",
      "castlings: 2\n",
      "---------------------------\n",
      "depth: 2, moves: 2039\n",
      "captures: 351\n",
      "checks: 3\n",
      "mates: 0\n",
      "castling: 91\n",
      "-------------------------\n",
      "depth: 3, moves: 97862\n",
      "captures: 17102\n",
      "checks: 993\n",
      "mates: 0\n",
      "castling: 3162\n",
      "-------------------------\n",
      "depth: 4, moves: 4085603\n",
      "captures: 757163\n",
      "checks: 25523\n",
      "mates: 1\n",
      "castling: 128013\n",
      "-------------------------\n"
     ]
    }
   ],
   "source": [
    "perft(kiwipete, 4, 0)"
   ]
  },
  {
   "cell_type": "code",
   "execution_count": 113,
   "id": "25a7a77a-e38a-4838-8959-07b9d181cf76",
   "metadata": {},
   "outputs": [
    {
     "name": "stdout",
     "output_type": "stream",
     "text": [
      "depth: 1, moves: 14\n",
      "captures: 1\n",
      "checks: 2\n",
      "castlings: 0\n",
      "---------------------------\n",
      "depth: 2, moves: 191\n",
      "captures: 14\n",
      "checks: 10\n",
      "mates: 0\n",
      "castling: 0\n",
      "-------------------------\n",
      "depth: 3, moves: 2812\n",
      "captures: 209\n",
      "checks: 267\n",
      "mates: 0\n",
      "castling: 0\n",
      "-------------------------\n",
      "depth: 4, moves: 43238\n",
      "captures: 3348\n",
      "checks: 1680\n",
      "mates: 0\n",
      "castling: 0\n",
      "-------------------------\n",
      "depth: 5, moves: 674624\n",
      "captures: 52051\n",
      "checks: 52950\n",
      "mates: 17\n",
      "castling: 0\n",
      "-------------------------\n"
     ]
    }
   ],
   "source": [
    "perft(p3, 5, 0)"
   ]
  },
  {
   "cell_type": "code",
   "execution_count": 109,
   "id": "9195496b-7a73-43c1-82f7-0eecc7419dcb",
   "metadata": {},
   "outputs": [
    {
     "name": "stdout",
     "output_type": "stream",
     "text": [
      "depth: 1, moves: 6\n",
      "captures: 0\n",
      "checks: 0\n",
      "castlings: 0\n",
      "---------------------------\n",
      "depth: 2, moves: 264\n",
      "captures: 87\n",
      "checks: 10\n",
      "mates: 0\n",
      "castling: 6\n",
      "-------------------------\n",
      "depth: 3, moves: 9467\n",
      "captures: 1021\n",
      "checks: 38\n",
      "mates: 0\n",
      "castling: 0\n",
      "-------------------------\n",
      "depth: 4, moves: 422333\n",
      "captures: 131393\n",
      "checks: 15492\n",
      "mates: 22\n",
      "castling: 7795\n",
      "-------------------------\n"
     ]
    }
   ],
   "source": [
    "perft(p4, 4, 0)"
   ]
  },
  {
   "cell_type": "code",
   "execution_count": 110,
   "id": "14e2205b-4f44-4988-ae2f-f990dbe2eafc",
   "metadata": {},
   "outputs": [
    {
     "name": "stdout",
     "output_type": "stream",
     "text": [
      "depth: 1, moves: 44\n",
      "captures: 6\n",
      "checks: 0\n",
      "castlings: 1\n",
      "---------------------------\n",
      "depth: 2, moves: 1486\n",
      "captures: 222\n",
      "checks: 117\n",
      "mates: 0\n",
      "castling: 0\n",
      "-------------------------\n",
      "depth: 3, moves: 62379\n",
      "captures: 8517\n",
      "checks: 1201\n",
      "mates: 0\n",
      "castling: 1081\n",
      "-------------------------\n",
      "depth: 4, moves: 2103487\n",
      "captures: 296153\n",
      "checks: 158486\n",
      "mates: 44\n",
      "castling: 0\n",
      "-------------------------\n"
     ]
    }
   ],
   "source": [
    "perft(p5, 4, 0)"
   ]
  },
  {
   "cell_type": "code",
   "execution_count": 111,
   "id": "2a75a229-76ad-46f2-ad11-0baf66daca45",
   "metadata": {},
   "outputs": [
    {
     "name": "stdout",
     "output_type": "stream",
     "text": [
      "depth: 1, moves: 46\n",
      "captures: 4\n",
      "checks: 1\n",
      "castlings: 0\n",
      "---------------------------\n",
      "depth: 2, moves: 2079\n",
      "captures: 203\n",
      "checks: 40\n",
      "mates: 0\n",
      "castling: 0\n",
      "-------------------------\n",
      "depth: 3, moves: 89890\n",
      "captures: 9470\n",
      "checks: 1783\n",
      "mates: 0\n",
      "castling: 0\n",
      "-------------------------\n",
      "depth: 4, moves: 3894594\n",
      "captures: 440388\n",
      "checks: 68985\n",
      "mates: 0\n",
      "castling: 0\n",
      "-------------------------\n"
     ]
    }
   ],
   "source": [
    "perft(p6, 4, 0)"
   ]
  },
  {
   "cell_type": "markdown",
   "id": "ce12e2c2-19e9-4b86-8e98-6dc4fc5c14e3",
   "metadata": {},
   "source": [
    "## Debugging"
   ]
  },
  {
   "cell_type": "code",
   "execution_count": 74,
   "id": "c521ac58-3f32-41e2-9663-4e33c8966116",
   "metadata": {},
   "outputs": [],
   "source": [
    "def divide4(game_state, color):\n",
    "    \"\"\"\n",
    "    state: list of game state bitboards\n",
    "    depth: amount of moves that will be calculated\n",
    "    color: starting color\n",
    "    \"\"\"\n",
    "    # generate pseudo-legal moves\n",
    "    plms = move_generator(game_state, color)\n",
    "    # turn pseudo-legal moves into legal moves\n",
    "    lms = pseudo_to_legal(plms, game_state, color)\n",
    "    print(\"depth: 1, moves: \" + str(len(lms)))\n",
    "    \n",
    "    # calculate for each move\n",
    "    for state in lms: \n",
    "        nodes = 0\n",
    "        # calculate new states\n",
    "        plms = move_generator(state, 1)\n",
    "        new_lms = pseudo_to_legal(plms, state, 1)\n",
    "        for s1 in new_lms:\n",
    "            # calculate new states\n",
    "            plms = move_generator(s1, 0)\n",
    "            new_new_lms = pseudo_to_legal(plms, s1, 0)\n",
    "            for s2 in new_new_lms:\n",
    "                # calculate new states\n",
    "                plms = move_generator(s2, 1)\n",
    "                newest_lms = pseudo_to_legal(plms, s2, 1)\n",
    "                \n",
    "                nodes += len(newest_lms)\n",
    "                \n",
    "        print(\"nodes: \" + str(nodes))\n",
    "        if nodes == 90984:\n",
    "            print_board(state)\n",
    "            kiwipete1 = state\n",
    "            break\n",
    "            \n",
    "    return kiwipete1\n",
    "            "
   ]
  },
  {
   "cell_type": "code",
   "execution_count": 75,
   "id": "194b95b1-d8bf-4afd-b322-6484df6aa543",
   "metadata": {},
   "outputs": [
    {
     "name": "stdout",
     "output_type": "stream",
     "text": [
      "depth: 1, moves: 48\n",
      "nodes: 79551\n",
      "nodes: 97464\n",
      "nodes: 90984\n"
     ]
    },
    {
     "data": {
      "image/png": "[encoded data removed]",
      "text/plain": [
       "<Figure size 432x288 with 1 Axes>"
      ]
     },
     "metadata": {
      "needs_background": "light"
     },
     "output_type": "display_data"
    }
   ],
   "source": [
    "kiwipete1 = divide4(kiwipete, 0)"
   ]
  },
  {
   "cell_type": "code",
   "execution_count": 76,
   "id": "8baf7e18-2257-453e-b49d-f74404175bc0",
   "metadata": {},
   "outputs": [
    {
     "data": {
      "image/png": "[encoded data removed]",
      "text/plain": [
       "<Figure size 432x288 with 1 Axes>"
      ]
     },
     "metadata": {
      "needs_background": "light"
     },
     "output_type": "display_data"
    }
   ],
   "source": [
    "#kiwipete 1\n",
    "print_board(kiwipete1)\n",
    "#FEN (from Nibbler): r3k2r/p1ppqpb1/bn2pnp1/3PN3/Pp2P3/2N2Q1p/1PPBBPPP/R3K2R b KQkq a3 0 1\n",
    "# a2 a4"
   ]
  },
  {
   "cell_type": "code",
   "execution_count": 81,
   "id": "a4d2ec86-869c-4d91-8aaf-214ffdd04c03",
   "metadata": {},
   "outputs": [],
   "source": [
    "def divide3(game_state, color):\n",
    "    \"\"\"\n",
    "    state: list of game state bitboards\n",
    "    depth: amount of moves that will be calculated\n",
    "    color: starting color\n",
    "    \"\"\"\n",
    "    # generate pseudo-legal moves\n",
    "    plms = move_generator(game_state, color)\n",
    "    # turn pseudo-legal moves into legal moves\n",
    "    lms = pseudo_to_legal(plms, game_state, color)\n",
    "    print(\"depth: 1, moves: \" + str(len(lms)))\n",
    "    \n",
    "    # calculate for each move\n",
    "    for state in lms: \n",
    "        nodes = 0\n",
    "        # calculate new states\n",
    "        plms = move_generator(state, 0)\n",
    "        new_lms = pseudo_to_legal(plms, state, 0)\n",
    "        for s1 in new_lms:\n",
    "            # calculate new states\n",
    "            plms = move_generator(s1, 1)\n",
    "            new_new_lms = pseudo_to_legal(plms, s1, 1)\n",
    "\n",
    "            nodes += len(new_new_lms)\n",
    "                \n",
    "        print(\"nodes: \" + str(nodes))\n",
    "        if nodes == 2027:\n",
    "            print_board(state)\n",
    "            kiwipete2 = state\n",
    "            break\n",
    "\n",
    "    return kiwipete2"
   ]
  },
  {
   "cell_type": "code",
   "execution_count": 82,
   "id": "876174cf-d504-42fb-8397-2855ebd874b6",
   "metadata": {},
   "outputs": [
    {
     "name": "stdout",
     "output_type": "stream",
     "text": [
      "depth: 1, moves: 44\n",
      "nodes: 2123\n",
      "nodes: 2027\n"
     ]
    },
    {
     "data": {
      "image/png": "[encoded data removed]",
      "text/plain": [
       "<Figure size 432x288 with 1 Axes>"
      ]
     },
     "metadata": {
      "needs_background": "light"
     },
     "output_type": "display_data"
    }
   ],
   "source": [
    "kiwipete2 = divide3(kiwipete1, 1)"
   ]
  },
  {
   "cell_type": "code",
   "execution_count": 83,
   "id": "d2f55195-0c4a-4641-b431-13991f1c789d",
   "metadata": {},
   "outputs": [
    {
     "data": {
      "image/png": "[encoded data removed]",
      "text/plain": [
       "<Figure size 432x288 with 1 Axes>"
      ]
     },
     "metadata": {
      "needs_background": "light"
     },
     "output_type": "display_data"
    }
   ],
   "source": [
    "#kiwipete 2\n",
    "print_board(kiwipete2)\n",
    "#FEN (from Nibbler): r3k2r/p2pqpb1/bn2pnp1/2pPN3/Pp2P3/2N2Q1p/1PPBBPPP/R3K2R w KQkq c6 0 2\n",
    "# a2 a4\n",
    "# c7 c5\n",
    "# should have been 2025, i got 2027 (I still have 4 additional extra moves outside of this path)"
   ]
  },
  {
   "cell_type": "code",
   "execution_count": 95,
   "id": "598065a6-8c06-444c-80ef-9d69d1918fb4",
   "metadata": {},
   "outputs": [],
   "source": [
    "def divide2(game_state, color):\n",
    "    \"\"\"\n",
    "    state: list of game state bitboards\n",
    "    depth: amount of moves that will be calculated\n",
    "    color: starting color\n",
    "    \"\"\"\n",
    "    # generate pseudo-legal moves\n",
    "    plms = move_generator(game_state, color)\n",
    "    # turn pseudo-legal moves into legal moves\n",
    "    lms = pseudo_to_legal(plms, game_state, color)\n",
    "    print(\"depth: 1, moves: \" + str(len(lms)))\n",
    "    \n",
    "    # calculate for each move\n",
    "    for state in lms: \n",
    "        nodes = 0\n",
    "        # calculate new states\n",
    "        plms = move_generator(state, 1)\n",
    "        new_lms = pseudo_to_legal(plms, state, 1)\n",
    "        \n",
    "        nodes += len(new_lms)\n",
    "                \n",
    "        print(\"nodes: \" + str(nodes))\n",
    "        if nodes == 42:\n",
    "            print_board(state)\n",
    "            kiwipete3 = state\n",
    "            \n",
    "    return kiwipete3\n",
    "\n"
   ]
  },
  {
   "cell_type": "code",
   "execution_count": 96,
   "id": "9564ddcf-c660-4a38-af56-6163059979a5",
   "metadata": {},
   "outputs": [
    {
     "name": "stdout",
     "output_type": "stream",
     "text": [
      "depth: 1, moves: 50\n",
      "nodes: 42\n"
     ]
    },
    {
     "data": {
      "image/png": "[encoded data removed]",
      "text/plain": [
       "<Figure size 432x288 with 1 Axes>"
      ]
     },
     "metadata": {
      "needs_background": "light"
     },
     "output_type": "display_data"
    },
    {
     "name": "stdout",
     "output_type": "stream",
     "text": [
      "nodes: 39\n",
      "nodes: 44\n",
      "nodes: 41\n",
      "nodes: 40\n",
      "nodes: 40\n",
      "nodes: 40\n",
      "nodes: 41\n",
      "nodes: 42\n"
     ]
    },
    {
     "data": {
      "image/png": "[encoded data removed]",
      "text/plain": [
       "<Figure size 432x288 with 1 Axes>"
      ]
     },
     "metadata": {
      "needs_background": "light"
     },
     "output_type": "display_data"
    },
    {
     "name": "stdout",
     "output_type": "stream",
     "text": [
      "nodes: 41\n",
      "nodes: 41\n",
      "nodes: 41\n",
      "nodes: 41\n",
      "nodes: 41\n",
      "nodes: 41\n",
      "nodes: 43\n",
      "nodes: 42\n"
     ]
    },
    {
     "data": {
      "image/png": "[encoded data removed]",
      "text/plain": [
       "<Figure size 432x288 with 1 Axes>"
      ]
     },
     "metadata": {
      "needs_background": "light"
     },
     "output_type": "display_data"
    },
    {
     "name": "stdout",
     "output_type": "stream",
     "text": [
      "nodes: 41\n",
      "nodes: 40\n",
      "nodes: 39\n",
      "nodes: 42\n"
     ]
    },
    {
     "data": {
      "image/png": "[encoded data removed]",
      "text/plain": [
       "<Figure size 432x288 with 1 Axes>"
      ]
     },
     "metadata": {
      "needs_background": "light"
     },
     "output_type": "display_data"
    },
    {
     "name": "stdout",
     "output_type": "stream",
     "text": [
      "nodes: 41\n",
      "nodes: 37\n",
      "nodes: 40\n",
      "nodes: 40\n",
      "nodes: 40\n",
      "nodes: 39\n",
      "nodes: 40\n",
      "nodes: 41\n",
      "nodes: 41\n",
      "nodes: 41\n",
      "nodes: 34\n",
      "nodes: 37\n",
      "nodes: 38\n",
      "nodes: 40\n",
      "nodes: 42\n"
     ]
    },
    {
     "data": {
      "image/png": "[encoded data removed]",
      "text/plain": [
       "<Figure size 432x288 with 1 Axes>"
      ]
     },
     "metadata": {
      "needs_background": "light"
     },
     "output_type": "display_data"
    },
    {
     "name": "stdout",
     "output_type": "stream",
     "text": [
      "nodes: 42\n"
     ]
    },
    {
     "data": {
      "image/png": "[encoded data removed]",
      "text/plain": [
       "<Figure size 432x288 with 1 Axes>"
      ]
     },
     "metadata": {
      "needs_background": "light"
     },
     "output_type": "display_data"
    },
    {
     "name": "stdout",
     "output_type": "stream",
     "text": [
      "nodes: 37\n",
      "nodes: 43\n",
      "nodes: 41\n",
      "nodes: 41\n",
      "nodes: 41\n",
      "nodes: 40\n",
      "nodes: 41\n",
      "nodes: 41\n",
      "nodes: 41\n",
      "nodes: 41\n",
      "nodes: 41\n",
      "nodes: 42\n"
     ]
    },
    {
     "data": {
      "image/png": "[encoded data removed]",
      "text/plain": [
       "<Figure size 432x288 with 1 Axes>"
      ]
     },
     "metadata": {
      "needs_background": "light"
     },
     "output_type": "display_data"
    },
    {
     "name": "stdout",
     "output_type": "stream",
     "text": [
      "nodes: 42\n"
     ]
    },
    {
     "data": {
      "image/png": "[encoded data removed]",
      "text/plain": [
       "<Figure size 432x288 with 1 Axes>"
      ]
     },
     "metadata": {
      "needs_background": "light"
     },
     "output_type": "display_data"
    }
   ],
   "source": [
    "kiwipete3 = divide2(kiwipete2, 0)\n",
    "# 2 moves too many with 42 follow-ups\n",
    "#d5c6\n",
    "#a1a3\n",
    "#e5f7\n",
    "#e5g4\n",
    "#e2d1\n",
    "#e2f1\n",
    "\n",
    "#the castling ones are the problem!!!!!!!!!!!!!!!!!!!!!!!!"
   ]
  },
  {
   "cell_type": "code",
   "execution_count": 99,
   "id": "a1f58f1e-fb75-4b95-b913-9b50a25e0e65",
   "metadata": {},
   "outputs": [
    {
     "data": {
      "image/png": "[encoded data removed]",
      "text/plain": [
       "<Figure size 432x288 with 1 Axes>"
      ]
     },
     "metadata": {
      "needs_background": "light"
     },
     "output_type": "display_data"
    },
    {
     "name": "stdout",
     "output_type": "stream",
     "text": [
      "depth: 1, moves: 42\n",
      "capture\n"
     ]
    },
    {
     "data": {
      "image/png": "[encoded data removed]",
      "text/plain": [
       "<Figure size 432x288 with 1 Axes>"
      ]
     },
     "metadata": {
      "needs_background": "light"
     },
     "output_type": "display_data"
    },
    {
     "name": "stdout",
     "output_type": "stream",
     "text": [
      "capture\n"
     ]
    },
    {
     "data": {
      "image/png": "[encoded data removed]",
      "text/plain": [
       "<Figure size 432x288 with 1 Axes>"
      ]
     },
     "metadata": {
      "needs_background": "light"
     },
     "output_type": "display_data"
    },
    {
     "name": "stdout",
     "output_type": "stream",
     "text": [
      "capture\n"
     ]
    },
    {
     "data": {
      "image/png": "[encoded data removed]",
      "text/plain": [
       "<Figure size 432x288 with 1 Axes>"
      ]
     },
     "metadata": {
      "needs_background": "light"
     },
     "output_type": "display_data"
    },
    {
     "name": "stdout",
     "output_type": "stream",
     "text": [
      "capture\n"
     ]
    },
    {
     "data": {
      "image/png": "[encoded data removed]",
      "text/plain": [
       "<Figure size 432x288 with 1 Axes>"
      ]
     },
     "metadata": {
      "needs_background": "light"
     },
     "output_type": "display_data"
    },
    {
     "name": "stdout",
     "output_type": "stream",
     "text": [
      "capture\n"
     ]
    },
    {
     "data": {
      "image/png": "[encoded data removed]",
      "text/plain": [
       "<Figure size 432x288 with 1 Axes>"
      ]
     },
     "metadata": {
      "needs_background": "light"
     },
     "output_type": "display_data"
    },
    {
     "name": "stdout",
     "output_type": "stream",
     "text": [
      "capture\n"
     ]
    },
    {
     "data": {
      "image/png": "[encoded data removed]",
      "text/plain": [
       "<Figure size 432x288 with 1 Axes>"
      ]
     },
     "metadata": {
      "needs_background": "light"
     },
     "output_type": "display_data"
    },
    {
     "name": "stdout",
     "output_type": "stream",
     "text": [
      "capture\n"
     ]
    },
    {
     "data": {
      "image/png": "[encoded data removed]",
      "text/plain": [
       "<Figure size 432x288 with 1 Axes>"
      ]
     },
     "metadata": {
      "needs_background": "light"
     },
     "output_type": "display_data"
    },
    {
     "name": "stdout",
     "output_type": "stream",
     "text": [
      "capture\n"
     ]
    },
    {
     "data": {
      "image/png": "[encoded data removed]",
      "text/plain": [
       "<Figure size 432x288 with 1 Axes>"
      ]
     },
     "metadata": {
      "needs_background": "light"
     },
     "output_type": "display_data"
    },
    {
     "name": "stdout",
     "output_type": "stream",
     "text": [
      "capture\n"
     ]
    },
    {
     "data": {
      "image/png": "[encoded data removed]",
      "text/plain": [
       "<Figure size 432x288 with 1 Axes>"
      ]
     },
     "metadata": {
      "needs_background": "light"
     },
     "output_type": "display_data"
    },
    {
     "name": "stdout",
     "output_type": "stream",
     "text": [
      "captures: 9\n",
      "checks: 0\n",
      "castlings: 0\n",
      "---------------------------\n"
     ]
    }
   ],
   "source": [
    "# kiwipete3\n",
    "print_board(kiwipete3)\n",
    "gs = kiwipete3\n",
    "color = 1\n",
    "\n",
    "# generate pseudo-legal moves\n",
    "plms = move_generator(gs, color)\n",
    "# turn pseudo-legal moves into legal moves\n",
    "lms = pseudo_to_legal(plms, gs, color)\n",
    "print(\"depth: 1, moves: \" + str(len(lms)))\n",
    "    \n",
    "################################\n",
    "if color == 0:\n",
    "    oppo_color = 1\n",
    "else:\n",
    "    oppo_color = 0\n",
    "\n",
    "captures = 0\n",
    "checks = 0\n",
    "castlings = 0\n",
    "\n",
    "for s in lms:\n",
    "    # check for captures\n",
    "    if bin(get_occupancy(s)).count(\"1\") != bin(get_occupancy(gs)).count(\"1\"):\n",
    "        captures += 1\n",
    "        print(\"capture\")\n",
    "        print_board(s)\n",
    "    # check for checks\n",
    "    if check_checker(s, oppo_color):\n",
    "        checks += 1\n",
    "    if ((s[1] != gs[1]) & (s[5] != gs[5])):\n",
    "        castlings += 1\n",
    "    #print_board(s)\n",
    "\n",
    "\n",
    "print(\"captures: \" + str(captures))\n",
    "print(\"checks: \" + str(checks))\n",
    "print(\"castlings: \" + str(castlings))\n",
    "print(\"---------------------------\")\n",
    "\n",
    "# issue with en passant right after castling???\n",
    "\n",
    "# the en passant capture is illegal!!!"
   ]
  },
  {
   "cell_type": "code",
   "execution_count": null,
   "id": "42a94972-7ba8-45d1-81a7-3ef9242f5709",
   "metadata": {},
   "outputs": [],
   "source": []
  }
 ],
 "metadata": {
  "kernelspec": {
   "display_name": "Python 3",
   "language": "python",
   "name": "python3"
  },
  "language_info": {
   "codemirror_mode": {
    "name": "ipython",
    "version": 3
   },
   "file_extension": ".py",
   "mimetype": "text/x-python",
   "name": "python",
   "nbconvert_exporter": "python",
   "pygments_lexer": "ipython3",
   "version": "3.8.10"
  }
 },
 "nbformat": 4,
 "nbformat_minor": 5
}
